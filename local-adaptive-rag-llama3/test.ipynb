{
 "cells": [
  {
   "cell_type": "code",
   "execution_count": 1,
   "id": "f58d33b2-b0ce-4e99-8f62-f1aa7648d0a0",
   "metadata": {},
   "outputs": [],
   "source": [
    "### LLM\n",
    "from langchain_ollama import ChatOllama\n",
    "\n",
    "local_llm = \"llama3.2:3b-instruct-fp16\"\n",
    "llm = ChatOllama(model=local_llm, temperature=0)\n",
    "\n",
    "llm_json_mode = ChatOllama(model=local_llm, temperature=0, format=\"json\")\n"
   ]
  },
  {
   "cell_type": "code",
   "execution_count": 2,
   "id": "adf4e338-9558-4f6d-aa60-8a54f776a0e7",
   "metadata": {},
   "outputs": [
    {
     "name": "stdin",
     "output_type": "stream",
     "text": [
      "TAVILY_API_KEY:  ········\n",
      "LANGCHAIN_API_KEY:  ········\n"
     ]
    }
   ],
   "source": [
    "## Optionally\n",
    "\n",
    "import os, getpass\n",
    "\n",
    "def _set_env(var: str):\n",
    "    if not os.environ.get(var):\n",
    "        os.environ[var] = getpass.getpass(f\"{var}: \")\n",
    "\n",
    "_set_env(\"TAVILY_API_KEY\")\n",
    "_set_env(\"LANGCHAIN_API_KEY\")\n",
    "\n",
    "os.environ['TOKENIZERS_PARALLELISM'] = 'true'\n",
    "os.environ[\"LANGCHAIN_TRACING_V2\"] = \"true\"\n",
    "os.environ[\"LANGCHAIN_PROJECT\"] = \"local-llama32-rag\"\n",
    "\n",
    "### Search\n",
    "from langchain_community.tools.tavily_search import TavilySearchResults\n",
    "web_search_tool = TavilySearchResults(k=3)\n"
   ]
  },
  {
   "cell_type": "code",
   "execution_count": 52,
   "id": "5deb53d4-9c08-439c-bca4-0cbef7df21bf",
   "metadata": {},
   "outputs": [
    {
     "name": "stdout",
     "output_type": "stream",
     "text": [
      "====== docs ====== [{'url': 'https://www.businessweekly.com.tw/style/blog/3000029', 'content': '發現火災時，父親一心急著下樓逃生，5歲小兒子見狀也跟著下樓，留下一位6歲大的兒子還在火場。 ... 不是不該，而是因為火災的每分每秒都在和死神拔河，所以各項行動都有先後次序。 ... 他同時訓練消防人員如何跟民眾用白話講專業，並引發聽眾動機、實際 ...'}, {'url': 'https://yimedia.com.tw/lifestyle/594699/', 'content': '小; 中; 大; 消防局指出，遇到火災時，應立即以關門、避難或逃生為最高原則。（示意圖／翻攝Pexels） 新竹東區慈雲路28樓社區大樓「晴空匯」於26日深夜發生火警，導致大樓共351名住戶受困，消防人員耗時10餘小時全數救出，也讓民眾擔憂發生火災到底該如何自救，過去台南市消防局也曾宣導火場 ...'}, {'url': 'https://today.line.me/tw/v2/article/9lyK3r', 'content': '逃生時低姿勢該怎麼做？ 【求生隨堂考】 在學校時，你一定聽老師們說過：「遇到火災時切勿驚慌，應該保持鎮定，並採取低姿勢逃生。」聽起來好像很容易，就你的理解，低姿勢應該怎麼做才對？ a.跪地手掌撐地爬行。 b.如行軍般匍匐前進。'}, {'url': 'https://www.fetnet.net/content/cbu/tw/lifecircle/topics/2022/03/fire_escape.html', 'content': '如果不幸遇到火災，當下應該要怎麼做呢？ ... 換新iPhone 16資料備份、轉移該怎麼用？ ... 另外，平時就應規劃兩個方向逃生路線，當主要逃生出口無法往下或往外逃生時，就必須尋找第二逃生出口，若第二逃生出口也受阻礙，則改往火、煙、熱反方向的空間避難 ...'}, {'url': 'https://www.youtube.com/watch?v=99TERJ5MDSo', 'content': '發生火災的第一時間，到底應該怎麼辦呢!？第一步就是先示警家人，大聲呼喊『失火了!』，讓家人先從主要出入口逃生，或是前往相對安全區 ...'}]\n"
     ]
    }
   ],
   "source": [
    "docs = web_search_tool.invoke({\"query\": \"火災時該如何？\"})\n",
    "print(\"====== docs ======\", docs)"
   ]
  },
  {
   "cell_type": "code",
   "execution_count": null,
   "id": "ce921df1-a1fc-4de8-9442-73b61b6e0c1b",
   "metadata": {},
   "outputs": [],
   "source": [
    "### Load data\n",
    "from langchain.text_splitter import RecursiveCharacterTextSplitter\n",
    "from langchain_community.document_loaders import WebBaseLoader\n",
    "from langchain_community.vectorstores import SKLearnVectorStore\n",
    "from langchain_nomic.embeddings import NomicEmbeddings\n",
    "import glob\n",
    "import os\n",
    "from langchain.document_loaders import JSONLoader\n",
    "\n",
    "DATA_PATH = \"data/\"\n",
    "\n",
    "def load_documents():\n",
    "    # Path to the folder containing your JSON files\n",
    "    folder_path = DATA_PATH\n",
    "    json_files = glob.glob(os.path.join(folder_path, \"*.json\"))\n",
    "\n",
    "    documents = []  # List to hold all document data\n",
    "    for file in json_files:\n",
    "        loader = JSONLoader(\n",
    "            file_path=file,\n",
    "            jq_schema=\".[].content\",\n",
    "        )\n",
    "        loaded_documents = loader.load()\n",
    "        documents.extend(loaded_documents)\n",
    "\n",
    "    return documents\n",
    "\n",
    "\n",
    "# Load documents\n",
    "# Create (or update) the data store.\n",
    "docs_list = load_documents()\n",
    "print(len(docs_list))\n"
   ]
  },
  {
   "cell_type": "code",
   "execution_count": 14,
   "id": "3e0aa9f6-4bde-4939-b778-f975598267b7",
   "metadata": {},
   "outputs": [],
   "source": [
    "text_splitter = RecursiveCharacterTextSplitter.from_tiktoken_encoder(\n",
    "    chunk_size=2000, chunk_overlap=200\n",
    ")\n",
    "doc_splits = text_splitter.split_documents(docs_list)"
   ]
  },
  {
   "cell_type": "code",
   "execution_count": 16,
   "id": "157a25d9-e046-4d8a-a068-d7654a03e752",
   "metadata": {},
   "outputs": [],
   "source": [
    "# Add to vectorDB\n",
    "vectorstore = SKLearnVectorStore.from_documents(\n",
    "    documents=doc_splits,\n",
    "    embedding=NomicEmbeddings(model=\"nomic-embed-text-v1.5\", inference_mode=\"local\"),\n",
    ")\n",
    "\n",
    "# Create retriever\n",
    "retriever = vectorstore.as_retriever(k=3)"
   ]
  },
  {
   "cell_type": "code",
   "execution_count": 18,
   "id": "5833bd14-23b5-446f-b118-5b68485e48d7",
   "metadata": {},
   "outputs": [
    {
     "data": {
      "text/plain": [
       "[Document(metadata={'id': '712c1ea2-790a-4b40-9c48-fb9e396b43cf', 'source': '/Users/davis_chang/code/project/llm-rag-pdf-image-markdown/local-adaptive-rag-llama3/data/finance.ettoday.net_2024-09-03.json', 'seq_num': 51}, page_content='▲鍋子火勢甚至越來越旺「發爐」，讓女主播嚇到花容失色，不斷驚聲尖叫。（翻自X平台） 圖文／鏡週刊 美國佛羅里達一名女直播主，近日在進行色色廚房的直播拍攝時，突然瞬間變成火警現場，讓網友與粉絲都嚇壞。 影片可見，女直播主穿著性感清涼，進行「色色廚房」拍攝，但不知為何鍋子突然燒起來，火勢甚至越來越旺「發爐」，讓女主播嚇到花容失色，不斷驚聲尖叫。旁邊一名男性工作人員發現狀況不對，跑過來幫忙，但他們沒有使用滅火器，而是打開流理台下方櫃子，之後男子把燒起來的鍋子，直接丟進流理台下方。 ▲鍋子的火勢一發不可收拾。（翻自X平台） 這時鏡頭沒有再看到火苗竄出，燒紅的電磁爐具也沒再冒出大火。但女主播依舊驚魂未定，不斷呼喊「歐買尬」，最後要求男子把大門打開，影片也到此結束。這段18禁情色廚房秒變恐怖火警的片段，隨即被網友們傳開並熱議，網友們也直呼：「好恐怖！」、「注意安全是最重要的。」、「這樣滅火方法對嗎？」、「為何不先關火？」 美国????????直播主，做饭的时候几乎烧毁了她的厨房和公寓。 pic.twitter.com/vAygvj27Ly 更多鏡週刊報導 為流量不要命 又一中國重機正妹車禍慘死！曾炫耀時速飆265公里 【41J肉聲】厲害了中國女三寶！逆向撞車還連搧對方10巴掌 身分被起底 不是鬼片！日本防範珊珊颱風拆坂本龍馬雕像 畫面太詭異引熱議 分享給朋友： 追蹤我們：'),\n",
       " Document(metadata={'id': 'c8371a5d-ae6b-4902-8e89-9c7042037e41', 'source': '/Users/davis_chang/code/project/llm-rag-pdf-image-markdown/local-adaptive-rag-llama3/data/finance.ettoday.net_2024-08-23.json', 'seq_num': 47}, page_content='附近一名鄭姓居民表示，「從中國來旅遊的朋友們剛好住在這，還好火災發生前他們已經出門和朋友吃晚餐，逃過一劫。」 另外，還有4名哈薩克籍旅客入住，原本預計安排在南韓接受健檢、手術，幸好最後幸免於難。一名住在附近的40多歲俄籍女性表示，「來自哈薩克、吉爾吉斯、烏茲別克等外籍旅客住在這附近飯店好一陣子了。」 報導指出，該間飯店的64間客房並未設置消防灑水器。由於南韓直到2017年才強化消防法規，強制規定6層樓以上之建築物必須安裝灑水器，不過該棟發生火災的飯店於2003年竣工，因此並未強制安裝灑水器。 호텔 화재 에어매트 뛰어내린 2명 사망 경기 부천 호텔 화재 사망자 2명은 에어매트 대피 중 사망 소방당국이 설치한 에어매트 위로 뛰어내렸다가 사망을 당한 것으로 알려졌다. pic.twitter.com/AdXFxE4hPC ►飯店大火跳樓逃生慘死！氣墊「上下翻轉」直摔撞地 曝超過使用年限 分享給朋友： 追蹤我們：'),\n",
       " Document(metadata={'id': '6c1741cd-1aa1-46dc-81b8-c49825eb266f', 'source': '/Users/davis_chang/code/project/llm-rag-pdf-image-markdown/local-adaptive-rag-llama3/data/news.ebc.net.tw_2024-08-23.json', 'seq_num': 58}, page_content='南韓發生一起火警！京畿道富川市一間酒店在當地時間22日晚間7點多發生火警，導致至少2人心臟驟停，傷亡人數恐會再增加。 [실시간] 부천시 중동 숙박시설 화재 2명 사망 5명 상해 에어메트로 뛰어내리다가 다치신 분도 있다네요 ㅠㅠ 제발…🙏 pic.twitter.com/kvtdQvd30M — 마르지엘라 (@Maison_kaikaiki) August 22, 2024 根據《KBS 뉴스》報導，這起火警發生在南韓京畿道富川市，當地時間22日晚間7點多，消防局接獲報案，一間酒店8樓冒煙，當時有客人在8樓住宿，消防局緊急展開救援行動。據《yna》當地時間晚間10時指出，已7人死亡、11人受傷、3人重傷。 부천 중동 숙박시설 화재사고 발생 부천 중동 숙박시설에서 화재사고가 발생했습니다. 소방당국은 를 발령하고 진화작업 중에 있습니다. 도민 여러분께서는 원활한 화재진압과 인명구조를 위해 협조해 주시면 감사하겠습니다. 부천시 원미구 중동 1159-7번지 인근 통행을… pic.twitter.com/6wRmUOx9MA — 경기도 (@ggholic) August 22, 2024 該酒店總共有9層樓，當地消防局緊急啟動「二級反應」搶救火勢，截至當地時間22日晚間9時25分，已有2名客人因心臟驟停被送往醫院，另外還有5名客人確認為受傷。 YT廣告 對此，行政安全部長官李相民緊急下達命令，全力撲救火災，並特別關注救援人員的安全，詳細事發原因有待進一步調查釐清。 EBC東森小教室－火警 如果是在台灣遇到火警該怎麼辦？內政部表示，火災預防平時就要做好準備，千萬不可疏忽大意，務必遵守用火電「3習慣」及防火逃生「4對策」共7要點，以確保居家安全。 3習慣 「3習慣」，就是平時養成「電氣使用安全」、「抽菸安全」及「爐火烹調安全」，包括用電不超過負載、電線不綑綁折損、插頭不潮濕污損、電源插座不用不插、電器周圍不放可燃物、不使用無商品安全標章的電器、人離火熄及絕不在床上吸菸。 4對策 「4對策」，就是「裝置住宅用火災警報器」、「設置滅火器」、「使用耐燃材料及防焰製品」及「建立近鄰協助體制」，以利火災時能即早發現、撲滅或避免延燒，並透過鄰居間互助，幫高齡或行動不便者逃生。 逃生6要訣 內政部指出，過去坊間流傳遇到火警找濕毛巾遮口鼻、用塑膠袋套頭、躲在浴室等，都是錯誤的逃生觀念，若不幸遇到火警，請記得「5不1原則」的應變逃生6要訣： 一、'),\n",
       " Document(metadata={'id': '454f2b5e-be77-46ab-8992-6807031dbb47', 'source': '/Users/davis_chang/code/project/llm-rag-pdf-image-markdown/local-adaptive-rag-llama3/data/news.ebc.net.tw_2024-08-27.json', 'seq_num': 38}, page_content='極端氣候持續對世界各地造成嚴重影響，蘇丹連日遭受大雨與洪水襲擊，今年至今已經至少有132人，因為洪災喪命。孟加拉近期也飽受洪災所苦，數百萬人生活陷入困境，位於南美的玻利維亞還有克里米亞半島則都因為爆發野火，大面積山林被燒毀。 ★延伸閱讀★出國注意！強颱珊珊恐多次登陸日全境將遭雨彈轟炸 黑夜被灼熱的橘紅火焰吞噬，火光映紅了整片天際，大火沿著山坡肆意蔓延，猛烈的吞噬著周圍的一切，克里米亞半島爆發山林野火，出動將近300名消防人員，還有各式重機具，但大火一時之間似乎難以控制。 YT廣告 新聞旁白：「消防隊員的工作，變得更加艱困，因為大火發生在山區，還要再加上炎熱天氣和強勁的風勢助長。」 ★延伸閱讀★暴雨又來！廣州佛山多地被淹民眾嘆：生意難做 南美洲的玻利維亞同樣因為高溫造成大面積野火，損失超過190萬公頃植被強風助長之下，推動火勢加劇，不但讓救援工作更加困難，對於居民來說，更是一場熾熱惡夢，有農夫擔心火勢持續延燒，會摧毀家園和賴以為生的農作物，說著說著崩潰落淚。當地農夫葛薩西：「我們的家可能會燒毀，那到時我們該怎麼辦，我不想這種事發生，那些農作物是我要維持家庭生計的。」 Firefighters continue effort to curb forest fires in Bolivia#Bolivian_Firefighters #forest_fire #Santa_Cruz #wildlife #볼리비아_산불 #화재 #Arirang_News #아리랑뉴스 pic.twitter.com/c39UjcVmSJ — Arirang News (@arirangtvnews) August 21, 2024 極端氣候影響之下，除了野火，洪水災情也在各地發生，東非國家蘇丹遭受連日大雨，結果導致位於東部地區的阿爾巴特水壩發生崩塌，洪水灌入附近住宅造成死傷，根據官方統計，蘇丹今年至今至少有人132人在洪水中喪命。蘇丹民眾：「昨天大約3點鐘大壩潰堤，洪水沖走了約40人，我們找到了一些遺體，不過也有許多倖存者，感謝上帝，大多數人都幸運生還。」 孟加拉民眾同樣因為水患所苦，這波暴雨至今已經超過23人遇難、550萬人受災，然而許多孟加拉人認為，暴雨不是唯一原因，真正的罪魁禍首是鄰國印度的大壩洩洪，才導致下游的孟加拉大規模淹水，不過印度外交部已經發出聲明否認。 一手掌握生活大小事，快來加入東森新聞唷！')]"
      ]
     },
     "execution_count": 18,
     "metadata": {},
     "output_type": "execute_result"
    }
   ],
   "source": [
    "retriever.invoke(\"火災\")"
   ]
  },
  {
   "cell_type": "code",
   "execution_count": 19,
   "id": "f04f7a06-cc74-427f-b1b7-97ab9796038e",
   "metadata": {},
   "outputs": [
    {
     "data": {
      "text/plain": [
       "{'datasource': 'vectorstore'}"
      ]
     },
     "execution_count": 19,
     "metadata": {},
     "output_type": "execute_result"
    }
   ],
   "source": [
    "### Router\n",
    "import json\n",
    "from langchain_core.messages import HumanMessage, SystemMessage\n",
    "\n",
    "# Prompt\n",
    "router_instructions = \"\"\"You are an expert at routing a user question to a vectorstore or web search.\n",
    "The vectorstore contains documents related to agents, prompt engineering, and adversarial attacks.\n",
    "Use the vectorstore for questions on these topics. For all else, and especially for current events, use web-search.\n",
    "Return JSON with a single key, datasource, that is 'websearch' or 'vectorstore' depending on the question.\"\"\"\n",
    "\n",
    "question = [HumanMessage(content=\"What are the types of agent memory?\")]\n",
    "test_vector_store = llm_json_mode.invoke([SystemMessage(content=router_instructions)] + question)\n",
    "json.loads(test_vector_store.content)"
   ]
  },
  {
   "cell_type": "code",
   "execution_count": 22,
   "id": "52a3664e-285d-449b-906a-3184cf70badb",
   "metadata": {},
   "outputs": [
    {
     "data": {
      "text/plain": [
       "{'binary_score': 'yes'}"
      ]
     },
     "execution_count": 22,
     "metadata": {},
     "output_type": "execute_result"
    }
   ],
   "source": [
    "### Retrieval Grader\n",
    "\n",
    "# Doc grader instructions\n",
    "doc_grader_instructions = \"\"\"You are a grader assessing relevance of a retrieved document to a user question.\n",
    "If the document contains keyword(s) or semantic meaning related to the question, grade it as relevant.\"\"\"\n",
    "\n",
    "# Grader prompt\n",
    "doc_grader_prompt = \"\"\"Here is the retrieved document: \\n\\n {document} \\n\\n Here is the user question: \\n\\n {question}.\n",
    "Carefully and objectively assess whether the document contains at least some information that is relevant to the question.\n",
    "Return JSON with single key, binary_score, that is 'yes' or 'no' score to indicate whether the document contains at least some information that is relevant to the question.\"\"\"\n",
    "\n",
    "# Test\n",
    "question = \"火災該做什麼?\"\n",
    "docs = retriever.invoke(question)\n",
    "doc_txt = docs[1].page_content\n",
    "doc_grader_prompt_formatted = doc_grader_prompt.format(document=doc_txt, question=question)\n",
    "result = llm_json_mode.invoke([SystemMessage(content=doc_grader_instructions)] + [HumanMessage(content=doc_grader_prompt_formatted)])\n",
    "json.loads(result.content)"
   ]
  },
  {
   "cell_type": "code",
   "execution_count": 23,
   "id": "bb2be66e-08d9-4a64-8d11-64becb29122e",
   "metadata": {},
   "outputs": [
    {
     "data": {
      "text/plain": [
       "'▲台南歸仁塑膠廠大火。（圖／民眾提供） 記者鄒鎮宇／綜合報導 海屏企業有限公司位於台南市歸仁區長榮路的塑膠粒倉庫，22日晚間突然起火燃燒，300坪廠房全面燃燒，黑煙不斷沖天、發出惡臭。警消獲報後，立刻出動大批人力前往灌救，目前無人受困，起火原因仍在釐清。 台南市消防局22日深夜11時7分獲報，該占地300坪的廠房不明原因起火，立刻出動18車39人前往灌救，現場不斷傳出惡臭。另外，海屏企業負責人也於深夜11時41分到場，同時警消確認場內無人受困。 消防局表示，目前建立循環式送水，第2、3、4面都是農田不會延燒，第1面已架設3線砲塔防護，起火原因仍在釐清。 ▲▼台南歸仁塑膠廠大火。（圖／民眾提供） 臉書粉專「台南式 Tainan Style」表示，工廠發生大火後，濃煙不斷竄出擴散，請附近仁德、歸仁，高鐵站、長榮大學周圍的居民注意空氣品質。 網友看完紛紛留言，「難怪一直聽到消防車的警鳴聲」、「台南最近太常火災了」、「拜託警消醫護人員你們不要受傷，現場請尊重專業」、「難怪歸仁這邊都有個味道想說有人在燒雜草」、「23:17接獲通報，現在24:00還在搶救中」、「啊怎麼又是那附近」、「火好大」。 歸仁區長榮路 希望大家平安 深夜火警，仁德服務區旁工廠發生大火，請仁德、歸仁，高鐵站、長榮大學周邊居民注意空氣品質 ►按這訂閱Podcast《小編沒收工》每天熱門話題聊不完 分享給朋友： 追蹤我們：'"
      ]
     },
     "execution_count": 23,
     "metadata": {},
     "output_type": "execute_result"
    }
   ],
   "source": [
    "doc_txt"
   ]
  },
  {
   "cell_type": "code",
   "execution_count": 24,
   "id": "54ccf611-5e91-4608-923a-a7eb56c2e154",
   "metadata": {},
   "outputs": [
    {
     "data": {
      "text/plain": [
       "[Document(metadata={'id': '712c1ea2-790a-4b40-9c48-fb9e396b43cf', 'source': '/Users/davis_chang/code/project/llm-rag-pdf-image-markdown/local-adaptive-rag-llama3/data/finance.ettoday.net_2024-09-03.json', 'seq_num': 51}, page_content='▲鍋子火勢甚至越來越旺「發爐」，讓女主播嚇到花容失色，不斷驚聲尖叫。（翻自X平台） 圖文／鏡週刊 美國佛羅里達一名女直播主，近日在進行色色廚房的直播拍攝時，突然瞬間變成火警現場，讓網友與粉絲都嚇壞。 影片可見，女直播主穿著性感清涼，進行「色色廚房」拍攝，但不知為何鍋子突然燒起來，火勢甚至越來越旺「發爐」，讓女主播嚇到花容失色，不斷驚聲尖叫。旁邊一名男性工作人員發現狀況不對，跑過來幫忙，但他們沒有使用滅火器，而是打開流理台下方櫃子，之後男子把燒起來的鍋子，直接丟進流理台下方。 ▲鍋子的火勢一發不可收拾。（翻自X平台） 這時鏡頭沒有再看到火苗竄出，燒紅的電磁爐具也沒再冒出大火。但女主播依舊驚魂未定，不斷呼喊「歐買尬」，最後要求男子把大門打開，影片也到此結束。這段18禁情色廚房秒變恐怖火警的片段，隨即被網友們傳開並熱議，網友們也直呼：「好恐怖！」、「注意安全是最重要的。」、「這樣滅火方法對嗎？」、「為何不先關火？」 美国????????直播主，做饭的时候几乎烧毁了她的厨房和公寓。 pic.twitter.com/vAygvj27Ly 更多鏡週刊報導 為流量不要命 又一中國重機正妹車禍慘死！曾炫耀時速飆265公里 【41J肉聲】厲害了中國女三寶！逆向撞車還連搧對方10巴掌 身分被起底 不是鬼片！日本防範珊珊颱風拆坂本龍馬雕像 畫面太詭異引熱議 分享給朋友： 追蹤我們：'),\n",
       " Document(metadata={'id': '915f1092-6a51-4549-8848-6824e52b1c93', 'source': '/Users/davis_chang/code/project/llm-rag-pdf-image-markdown/local-adaptive-rag-llama3/data/finance.ettoday.net_2024-08-23.json', 'seq_num': 72}, page_content='▲台南歸仁塑膠廠大火。（圖／民眾提供） 記者鄒鎮宇／綜合報導 海屏企業有限公司位於台南市歸仁區長榮路的塑膠粒倉庫，22日晚間突然起火燃燒，300坪廠房全面燃燒，黑煙不斷沖天、發出惡臭。警消獲報後，立刻出動大批人力前往灌救，目前無人受困，起火原因仍在釐清。 台南市消防局22日深夜11時7分獲報，該占地300坪的廠房不明原因起火，立刻出動18車39人前往灌救，現場不斷傳出惡臭。另外，海屏企業負責人也於深夜11時41分到場，同時警消確認場內無人受困。 消防局表示，目前建立循環式送水，第2、3、4面都是農田不會延燒，第1面已架設3線砲塔防護，起火原因仍在釐清。 ▲▼台南歸仁塑膠廠大火。（圖／民眾提供） 臉書粉專「台南式 Tainan Style」表示，工廠發生大火後，濃煙不斷竄出擴散，請附近仁德、歸仁，高鐵站、長榮大學周圍的居民注意空氣品質。 網友看完紛紛留言，「難怪一直聽到消防車的警鳴聲」、「台南最近太常火災了」、「拜託警消醫護人員你們不要受傷，現場請尊重專業」、「難怪歸仁這邊都有個味道想說有人在燒雜草」、「23:17接獲通報，現在24:00還在搶救中」、「啊怎麼又是那附近」、「火好大」。 歸仁區長榮路 希望大家平安 深夜火警，仁德服務區旁工廠發生大火，請仁德、歸仁，高鐵站、長榮大學周邊居民注意空氣品質 ►按這訂閱Podcast《小編沒收工》每天熱門話題聊不完 分享給朋友： 追蹤我們：'),\n",
       " Document(metadata={'id': '454f2b5e-be77-46ab-8992-6807031dbb47', 'source': '/Users/davis_chang/code/project/llm-rag-pdf-image-markdown/local-adaptive-rag-llama3/data/news.ebc.net.tw_2024-08-27.json', 'seq_num': 38}, page_content='極端氣候持續對世界各地造成嚴重影響，蘇丹連日遭受大雨與洪水襲擊，今年至今已經至少有132人，因為洪災喪命。孟加拉近期也飽受洪災所苦，數百萬人生活陷入困境，位於南美的玻利維亞還有克里米亞半島則都因為爆發野火，大面積山林被燒毀。 ★延伸閱讀★出國注意！強颱珊珊恐多次登陸日全境將遭雨彈轟炸 黑夜被灼熱的橘紅火焰吞噬，火光映紅了整片天際，大火沿著山坡肆意蔓延，猛烈的吞噬著周圍的一切，克里米亞半島爆發山林野火，出動將近300名消防人員，還有各式重機具，但大火一時之間似乎難以控制。 YT廣告 新聞旁白：「消防隊員的工作，變得更加艱困，因為大火發生在山區，還要再加上炎熱天氣和強勁的風勢助長。」 ★延伸閱讀★暴雨又來！廣州佛山多地被淹民眾嘆：生意難做 南美洲的玻利維亞同樣因為高溫造成大面積野火，損失超過190萬公頃植被強風助長之下，推動火勢加劇，不但讓救援工作更加困難，對於居民來說，更是一場熾熱惡夢，有農夫擔心火勢持續延燒，會摧毀家園和賴以為生的農作物，說著說著崩潰落淚。當地農夫葛薩西：「我們的家可能會燒毀，那到時我們該怎麼辦，我不想這種事發生，那些農作物是我要維持家庭生計的。」 Firefighters continue effort to curb forest fires in Bolivia#Bolivian_Firefighters #forest_fire #Santa_Cruz #wildlife #볼리비아_산불 #화재 #Arirang_News #아리랑뉴스 pic.twitter.com/c39UjcVmSJ — Arirang News (@arirangtvnews) August 21, 2024 極端氣候影響之下，除了野火，洪水災情也在各地發生，東非國家蘇丹遭受連日大雨，結果導致位於東部地區的阿爾巴特水壩發生崩塌，洪水灌入附近住宅造成死傷，根據官方統計，蘇丹今年至今至少有人132人在洪水中喪命。蘇丹民眾：「昨天大約3點鐘大壩潰堤，洪水沖走了約40人，我們找到了一些遺體，不過也有許多倖存者，感謝上帝，大多數人都幸運生還。」 孟加拉民眾同樣因為水患所苦，這波暴雨至今已經超過23人遇難、550萬人受災，然而許多孟加拉人認為，暴雨不是唯一原因，真正的罪魁禍首是鄰國印度的大壩洩洪，才導致下游的孟加拉大規模淹水，不過印度外交部已經發出聲明否認。 一手掌握生活大小事，快來加入東森新聞唷！'),\n",
       " Document(metadata={'id': '6c1741cd-1aa1-46dc-81b8-c49825eb266f', 'source': '/Users/davis_chang/code/project/llm-rag-pdf-image-markdown/local-adaptive-rag-llama3/data/news.ebc.net.tw_2024-08-23.json', 'seq_num': 58}, page_content='南韓發生一起火警！京畿道富川市一間酒店在當地時間22日晚間7點多發生火警，導致至少2人心臟驟停，傷亡人數恐會再增加。 [실시간] 부천시 중동 숙박시설 화재 2명 사망 5명 상해 에어메트로 뛰어내리다가 다치신 분도 있다네요 ㅠㅠ 제발…🙏 pic.twitter.com/kvtdQvd30M — 마르지엘라 (@Maison_kaikaiki) August 22, 2024 根據《KBS 뉴스》報導，這起火警發生在南韓京畿道富川市，當地時間22日晚間7點多，消防局接獲報案，一間酒店8樓冒煙，當時有客人在8樓住宿，消防局緊急展開救援行動。據《yna》當地時間晚間10時指出，已7人死亡、11人受傷、3人重傷。 부천 중동 숙박시설 화재사고 발생 부천 중동 숙박시설에서 화재사고가 발생했습니다. 소방당국은 를 발령하고 진화작업 중에 있습니다. 도민 여러분께서는 원활한 화재진압과 인명구조를 위해 협조해 주시면 감사하겠습니다. 부천시 원미구 중동 1159-7번지 인근 통행을… pic.twitter.com/6wRmUOx9MA — 경기도 (@ggholic) August 22, 2024 該酒店總共有9層樓，當地消防局緊急啟動「二級反應」搶救火勢，截至當地時間22日晚間9時25分，已有2名客人因心臟驟停被送往醫院，另外還有5名客人確認為受傷。 YT廣告 對此，行政安全部長官李相民緊急下達命令，全力撲救火災，並特別關注救援人員的安全，詳細事發原因有待進一步調查釐清。 EBC東森小教室－火警 如果是在台灣遇到火警該怎麼辦？內政部表示，火災預防平時就要做好準備，千萬不可疏忽大意，務必遵守用火電「3習慣」及防火逃生「4對策」共7要點，以確保居家安全。 3習慣 「3習慣」，就是平時養成「電氣使用安全」、「抽菸安全」及「爐火烹調安全」，包括用電不超過負載、電線不綑綁折損、插頭不潮濕污損、電源插座不用不插、電器周圍不放可燃物、不使用無商品安全標章的電器、人離火熄及絕不在床上吸菸。 4對策 「4對策」，就是「裝置住宅用火災警報器」、「設置滅火器」、「使用耐燃材料及防焰製品」及「建立近鄰協助體制」，以利火災時能即早發現、撲滅或避免延燒，並透過鄰居間互助，幫高齡或行動不便者逃生。 逃生6要訣 內政部指出，過去坊間流傳遇到火警找濕毛巾遮口鼻、用塑膠袋套頭、躲在浴室等，都是錯誤的逃生觀念，若不幸遇到火警，請記得「5不1原則」的應變逃生6要訣： 一、')]"
      ]
     },
     "execution_count": 24,
     "metadata": {},
     "output_type": "execute_result"
    }
   ],
   "source": [
    "docs"
   ]
  },
  {
   "cell_type": "code",
   "execution_count": 25,
   "id": "4fc9f621-aa38-49c5-ac90-cda7fb518aa6",
   "metadata": {},
   "outputs": [
    {
     "name": "stdout",
     "output_type": "stream",
     "text": [
      "如果是在台灣遇到火警，應該立即呼叫119或其他緊急服務號碼，然後迅速離開火災區域，找到安全的地方等待救援。不要試圖自行撲滅火災，也不 nên使用濕毛巾遮口鼻或塑膠袋套頭。同時，應該記住「5不1原則」，即不要進入火災區域，不要用電器，不要穿著可燃物、不 nên吸菸等。\n"
     ]
    }
   ],
   "source": [
    "### Generate\n",
    "\n",
    "# Prompt\n",
    "rag_prompt = \"\"\"You are an assistant for question-answering tasks.\n",
    "Here is the context to use to answer the question:\n",
    "{context}\n",
    "\n",
    "Think carefully about the above context.\n",
    "Now, review the user question:\n",
    "{question}\n",
    "\n",
    "Provide an answer to this question using only the above context.\n",
    "Use three sentences maximum and keep the answer concise.\n",
    "Answer:\"\"\"\n",
    "\n",
    "# Post-processing\n",
    "def format_docs(docs):\n",
    "    return \"\\n\\n\".join(doc.page_content for doc in docs)\n",
    "\n",
    "# Test\n",
    "docs = retriever.invoke(question)\n",
    "docs_txt = format_docs(docs)\n",
    "rag_prompt_formatted = rag_prompt.format(context=docs_txt, question=question)\n",
    "generation = llm.invoke([HumanMessage(content=rag_prompt_formatted)])\n",
    "print(generation.content)"
   ]
  },
  {
   "cell_type": "code",
   "execution_count": 29,
   "id": "e43abbda-0177-44d8-87dd-6d885b0b4572",
   "metadata": {},
   "outputs": [
    {
     "data": {
      "text/plain": [
       "'▲鍋子火勢甚至越來越旺「發爐」，讓女主播嚇到花容失色，不斷驚聲尖叫。（翻自X平台） 圖文／鏡週刊 美國佛羅里達一名女直播主，近日在進行色色廚房的直播拍攝時，突然瞬間變成火警現場，讓網友與粉絲都嚇壞。 影片可見，女直播主穿著性感清涼，進行「色色廚房」拍攝，但不知為何鍋子突然燒起來，火勢甚至越來越旺「發爐」，讓女主播嚇到花容失色，不斷驚聲尖叫。旁邊一名男性工作人員發現狀況不對，跑過來幫忙，但他們沒有使用滅火器，而是打開流理台下方櫃子，之後男子把燒起來的鍋子，直接丟進流理台下方。 ▲鍋子的火勢一發不可收拾。（翻自X平台） 這時鏡頭沒有再看到火苗竄出，燒紅的電磁爐具也沒再冒出大火。但女主播依舊驚魂未定，不斷呼喊「歐買尬」，最後要求男子把大門打開，影片也到此結束。這段18禁情色廚房秒變恐怖火警的片段，隨即被網友們傳開並熱議，網友們也直呼：「好恐怖！」、「注意安全是最重要的。」、「這樣滅火方法對嗎？」、「為何不先關火？」 美国????????直播主，做饭的时候几乎烧毁了她的厨房和公寓。 pic.twitter.com/vAygvj27Ly 更多鏡週刊報導 為流量不要命 又一中國重機正妹車禍慘死！曾炫耀時速飆265公里 【41J肉聲】厲害了中國女三寶！逆向撞車還連搧對方10巴掌 身分被起底 不是鬼片！日本防範珊珊颱風拆坂本龍馬雕像 畫面太詭異引熱議 分享給朋友： 追蹤我們：\\n\\n▲台南歸仁塑膠廠大火。（圖／民眾提供） 記者鄒鎮宇／綜合報導 海屏企業有限公司位於台南市歸仁區長榮路的塑膠粒倉庫，22日晚間突然起火燃燒，300坪廠房全面燃燒，黑煙不斷沖天、發出惡臭。警消獲報後，立刻出動大批人力前往灌救，目前無人受困，起火原因仍在釐清。 台南市消防局22日深夜11時7分獲報，該占地300坪的廠房不明原因起火，立刻出動18車39人前往灌救，現場不斷傳出惡臭。另外，海屏企業負責人也於深夜11時41分到場，同時警消確認場內無人受困。 消防局表示，目前建立循環式送水，第2、3、4面都是農田不會延燒，第1面已架設3線砲塔防護，起火原因仍在釐清。 ▲▼台南歸仁塑膠廠大火。（圖／民眾提供） 臉書粉專「台南式 Tainan Style」表示，工廠發生大火後，濃煙不斷竄出擴散，請附近仁德、歸仁，高鐵站、長榮大學周圍的居民注意空氣品質。 網友看完紛紛留言，「難怪一直聽到消防車的警鳴聲」、「台南最近太常火災了」、「拜託警消醫護人員你們不要受傷，現場請尊重專業」、「難怪歸仁這邊都有個味道想說有人在燒雜草」、「23:17接獲通報，現在24:00還在搶救中」、「啊怎麼又是那附近」、「火好大」。 歸仁區長榮路 希望大家平安 深夜火警，仁德服務區旁工廠發生大火，請仁德、歸仁，高鐵站、長榮大學周邊居民注意空氣品質 ►按這訂閱Podcast《小編沒收工》每天熱門話題聊不完 分享給朋友： 追蹤我們：\\n\\n極端氣候持續對世界各地造成嚴重影響，蘇丹連日遭受大雨與洪水襲擊，今年至今已經至少有132人，因為洪災喪命。孟加拉近期也飽受洪災所苦，數百萬人生活陷入困境，位於南美的玻利維亞還有克里米亞半島則都因為爆發野火，大面積山林被燒毀。 ★延伸閱讀★出國注意！強颱珊珊恐多次登陸日全境將遭雨彈轟炸 黑夜被灼熱的橘紅火焰吞噬，火光映紅了整片天際，大火沿著山坡肆意蔓延，猛烈的吞噬著周圍的一切，克里米亞半島爆發山林野火，出動將近300名消防人員，還有各式重機具，但大火一時之間似乎難以控制。 YT廣告 新聞旁白：「消防隊員的工作，變得更加艱困，因為大火發生在山區，還要再加上炎熱天氣和強勁的風勢助長。」 ★延伸閱讀★暴雨又來！廣州佛山多地被淹民眾嘆：生意難做 南美洲的玻利維亞同樣因為高溫造成大面積野火，損失超過190萬公頃植被強風助長之下，推動火勢加劇，不但讓救援工作更加困難，對於居民來說，更是一場熾熱惡夢，有農夫擔心火勢持續延燒，會摧毀家園和賴以為生的農作物，說著說著崩潰落淚。當地農夫葛薩西：「我們的家可能會燒毀，那到時我們該怎麼辦，我不想這種事發生，那些農作物是我要維持家庭生計的。」 Firefighters continue effort to curb forest fires in Bolivia#Bolivian_Firefighters #forest_fire #Santa_Cruz #wildlife #볼리비아_산불 #화재 #Arirang_News #아리랑뉴스 pic.twitter.com/c39UjcVmSJ — Arirang News (@arirangtvnews) August 21, 2024 極端氣候影響之下，除了野火，洪水災情也在各地發生，東非國家蘇丹遭受連日大雨，結果導致位於東部地區的阿爾巴特水壩發生崩塌，洪水灌入附近住宅造成死傷，根據官方統計，蘇丹今年至今至少有人132人在洪水中喪命。蘇丹民眾：「昨天大約3點鐘大壩潰堤，洪水沖走了約40人，我們找到了一些遺體，不過也有許多倖存者，感謝上帝，大多數人都幸運生還。」 孟加拉民眾同樣因為水患所苦，這波暴雨至今已經超過23人遇難、550萬人受災，然而許多孟加拉人認為，暴雨不是唯一原因，真正的罪魁禍首是鄰國印度的大壩洩洪，才導致下游的孟加拉大規模淹水，不過印度外交部已經發出聲明否認。 一手掌握生活大小事，快來加入東森新聞唷！\\n\\n南韓發生一起火警！京畿道富川市一間酒店在當地時間22日晚間7點多發生火警，導致至少2人心臟驟停，傷亡人數恐會再增加。 [실시간] 부천시 중동 숙박시설 화재 2명 사망 5명 상해 에어메트로 뛰어내리다가 다치신 분도 있다네요 ㅠㅠ 제발…🙏 pic.twitter.com/kvtdQvd30M — 마르지엘라 (@Maison_kaikaiki) August 22, 2024 根據《KBS 뉴스》報導，這起火警發生在南韓京畿道富川市，當地時間22日晚間7點多，消防局接獲報案，一間酒店8樓冒煙，當時有客人在8樓住宿，消防局緊急展開救援行動。據《yna》當地時間晚間10時指出，已7人死亡、11人受傷、3人重傷。 부천 중동 숙박시설 화재사고 발생 부천 중동 숙박시설에서 화재사고가 발생했습니다. 소방당국은 를 발령하고 진화작업 중에 있습니다. 도민 여러분께서는 원활한 화재진압과 인명구조를 위해 협조해 주시면 감사하겠습니다. 부천시 원미구 중동 1159-7번지 인근 통행을… pic.twitter.com/6wRmUOx9MA — 경기도 (@ggholic) August 22, 2024 該酒店總共有9層樓，當地消防局緊急啟動「二級反應」搶救火勢，截至當地時間22日晚間9時25分，已有2名客人因心臟驟停被送往醫院，另外還有5名客人確認為受傷。 YT廣告 對此，行政安全部長官李相民緊急下達命令，全力撲救火災，並特別關注救援人員的安全，詳細事發原因有待進一步調查釐清。 EBC東森小教室－火警 如果是在台灣遇到火警該怎麼辦？內政部表示，火災預防平時就要做好準備，千萬不可疏忽大意，務必遵守用火電「3習慣」及防火逃生「4對策」共7要點，以確保居家安全。 3習慣 「3習慣」，就是平時養成「電氣使用安全」、「抽菸安全」及「爐火烹調安全」，包括用電不超過負載、電線不綑綁折損、插頭不潮濕污損、電源插座不用不插、電器周圍不放可燃物、不使用無商品安全標章的電器、人離火熄及絕不在床上吸菸。 4對策 「4對策」，就是「裝置住宅用火災警報器」、「設置滅火器」、「使用耐燃材料及防焰製品」及「建立近鄰協助體制」，以利火災時能即早發現、撲滅或避免延燒，並透過鄰居間互助，幫高齡或行動不便者逃生。 逃生6要訣 內政部指出，過去坊間流傳遇到火警找濕毛巾遮口鼻、用塑膠袋套頭、躲在浴室等，都是錯誤的逃生觀念，若不幸遇到火警，請記得「5不1原則」的應變逃生6要訣： 一、'"
      ]
     },
     "execution_count": 29,
     "metadata": {},
     "output_type": "execute_result"
    }
   ],
   "source": [
    "docs_txt"
   ]
  },
  {
   "cell_type": "code",
   "execution_count": 26,
   "id": "6f6d3e9d-13e9-4162-b928-83af88719595",
   "metadata": {},
   "outputs": [
    {
     "data": {
      "text/plain": [
       "'火災該做什麼?'"
      ]
     },
     "execution_count": 26,
     "metadata": {},
     "output_type": "execute_result"
    }
   ],
   "source": [
    "question"
   ]
  },
  {
   "cell_type": "code",
   "execution_count": 30,
   "id": "0bcbbe11-79cf-4f46-ac1a-13a8792fa75b",
   "metadata": {},
   "outputs": [
    {
     "data": {
      "text/plain": [
       "{'binary_score': 'yes',\n",
       " 'explanation': '如果是在台灣遇到火警，應該立即呼叫119或其他緊急服務號碼，然後迅速離開火災區域，找到安全的地方等待救援。這是正確的逃生方法，因為它能夠快速地將人們移出火災區域，減少受傷風險。\\n\\n另外，記住 \"5不1原則\"，即不要進入火災區域，不要用電器，不要穿著可燃物、不 nên吸菸等，這些都是防止自己或他人在火災中受傷的重要措施。'}"
      ]
     },
     "execution_count": 30,
     "metadata": {},
     "output_type": "execute_result"
    }
   ],
   "source": [
    "### Hallucination Grader\n",
    "\n",
    "# Hallucination grader instructions\n",
    "hallucination_grader_instructions = \"\"\"\n",
    "You are a teacher grading a quiz.\n",
    "You will be given FACTS and a STUDENT ANSWER.\n",
    "\n",
    "Here is the grade criteria to follow:\n",
    "(1) Ensure the STUDENT ANSWER is grounded in the FACTS.\n",
    "(2) Ensure the STUDENT ANSWER does not contain \"hallucinated\" information outside the scope of the FACTS.\n",
    "\n",
    "Score:\n",
    "A score of yes means that the student's answer meets all of the criteria. This is the highest (best) score.\n",
    "A score of no means that the student's answer does not meet all of the criteria. This is the lowest possible score you can give.\n",
    "\n",
    "Explain your reasoning in a step-by-step manner to ensure your reasoning and conclusion are correct.\n",
    "Avoid simply stating the correct answer at the outset.\"\"\"\n",
    "\n",
    "# Grader prompt\n",
    "hallucination_grader_prompt = \"\"\"FACTS: \\n\\n {documents} \\n\\n STUDENT ANSWER: {generation}.\n",
    "\n",
    "Return JSON with two keys, binary_score is 'yes' or 'no' score to indicate whether the STUDENT ANSWER is grounded in the FACTS. And a key, explanation, with step-by-step reasoning.\"\"\"\n",
    "\n",
    "# Test using documents and generation from above\n",
    "hallucination_grader_prompt_formatted = hallucination_grader_prompt.format(documents=docs_txt, generation=generation.content)\n",
    "result = llm_json_mode.invoke([SystemMessage(content=hallucination_grader_instructions)] + [HumanMessage(content=hallucination_grader_prompt_formatted)])\n",
    "json.loads(result.content)"
   ]
  },
  {
   "cell_type": "code",
   "execution_count": 31,
   "id": "3bf5358c-820a-4b30-b1fa-cd485dddd099",
   "metadata": {},
   "outputs": [
    {
     "data": {
      "text/plain": [
       "{'binary_score': 'yes',\n",
       " 'explanation': ['Step 1: ตรวจสอบ是否回答了問題的主要內容。',\n",
       "  'Student Answer 回答了問題的主要內容，即火警時應該如何逃生，特別是關於使用濕毛巾、塑膠袋和浴室的建議。',\n",
       "  'Step 2: ตรวจสอบ是否正確反映了指南或建議。',\n",
       "  'Student Answer 提到內政部的指南，強調過去的逃生觀念是錯誤的，這符合問題要求，回答了關於火警時應該如何逃生的建議。',\n",
       "  'Step 3: ตรวจสอบ是否提供了額外信息。',\n",
       "  'Student Answer 不僅回答了問題的主要內容，也提到了過去的錯誤觀念，這是一個額外的信息，但它仍然符合問題要求，回答了關於火警時應該如何逃生的建議。']}"
      ]
     },
     "execution_count": 31,
     "metadata": {},
     "output_type": "execute_result"
    }
   ],
   "source": [
    "### Answer Grader\n",
    "\n",
    "# Answer grader instructions\n",
    "answer_grader_instructions = \"\"\"You are a teacher grading a quiz.\n",
    "You will be given a QUESTION and a STUDENT ANSWER.\n",
    "\n",
    "Here is the grade criteria to follow:\n",
    "(1) The STUDENT ANSWER helps to answer the QUESTION.\n",
    "\n",
    "Score:\n",
    "A score of yes means that the student's answer meets all of the criteria. This is the highest (best) score.\n",
    "The student can receive a score of yes if the answer contains extra information that is not explicitly asked for in the question.\n",
    "A score of no means that the student's answer does not meet all of the criteria. This is the lowest possible score you can give.\n",
    "\n",
    "Explain your reasoning in a step-by-step manner to ensure your reasoning and conclusion are correct.\n",
    "Avoid simply stating the correct answer at the outset.\"\"\"\n",
    "\n",
    "# Grader prompt\n",
    "answer_grader_prompt = \"\"\"QUESTION: \\n\\n {question} \\n\\n STUDENT ANSWER: {generation}.\n",
    "\n",
    "Return JSON with two keys, binary_score is 'yes' or 'no' score to indicate whether the STUDENT ANSWER meets the criteria. And a key, explanation, with step-by-step reasoning.\"\"\"\n",
    "\n",
    "# Test\n",
    "question = \"火警找濕毛巾遮口鼻、用塑膠袋套頭、躲在浴室?\"\n",
    "answer = \"內政部指出，過去坊間流傳遇到火警找濕毛巾遮口鼻、用塑膠袋套頭、躲在浴室等，都是錯誤的逃生觀念\"\n",
    "\n",
    "# Test using question and generation from above\n",
    "answer_grader_prompt_formatted = answer_grader_prompt.format(question=question, generation=answer)\n",
    "result = llm_json_mode.invoke([SystemMessage(content=answer_grader_instructions)] + [HumanMessage(content=answer_grader_prompt_formatted)])\n",
    "json.loads(result.content)"
   ]
  },
  {
   "cell_type": "code",
   "execution_count": 32,
   "id": "4a57499c-739e-4b51-aa52-0d3e30731eea",
   "metadata": {},
   "outputs": [
    {
     "data": {
      "text/plain": [
       "\"QUESTION: \\n\\n 火警找濕毛巾遮口鼻、用塑膠袋套頭、躲在浴室? \\n\\n STUDENT ANSWER: 內政部指出，過去坊間流傳遇到火警找濕毛巾遮口鼻、用塑膠袋套頭、躲在浴室等，都是錯誤的逃生觀念.\\n\\nReturn JSON with two keys, binary_score is 'yes' or 'no' score to indicate whether the STUDENT ANSWER meets the criteria. And a key, explanation, with step-by-step reasoning.\""
      ]
     },
     "execution_count": 32,
     "metadata": {},
     "output_type": "execute_result"
    }
   ],
   "source": [
    "answer_grader_prompt_formatted"
   ]
  },
  {
   "cell_type": "code",
   "execution_count": 33,
   "id": "ee14a658-6851-4525-b187-2a380f338eae",
   "metadata": {},
   "outputs": [],
   "source": [
    "# GraphState: This class is a specialized dictionary (TypedDict) that defines the structure of\n",
    "# data related to the state of a graph used in processing LLM (Large Language Model) outputs and decisions.\n",
    "import operator\n",
    "from typing_extensions import TypedDict\n",
    "from typing import List, Annotated\n",
    "\n",
    "class GraphState(TypedDict):\n",
    "    \"\"\"\n",
    "    Graph state is a dictionary that contains information we want to propagate to, and modify in, each graph node.\n",
    "    \"\"\"\n",
    "    question: str # User question\n",
    "    generation: str # LLM generation\n",
    "    web_search: str # Binary decision to run web search\n",
    "    max_retries: int # Max number of retries for answer generation\n",
    "    answers: int # Number of answers generated\n",
    "    loop_step: Annotated[int, operator.add]\n",
    "    documents: List[str] # List of retrieved documents"
   ]
  },
  {
   "cell_type": "code",
   "execution_count": 48,
   "id": "df10b044-437d-47d1-96f6-8b75b31d118c",
   "metadata": {},
   "outputs": [],
   "source": [
    "from langchain.schema import Document\n",
    "from langgraph.graph import END\n",
    "\n",
    "### Nodes\n",
    "def retrieve(state):\n",
    "    \"\"\"\n",
    "    Retrieve documents from vectorstore\n",
    "\n",
    "    Args:\n",
    "        state (dict): The current graph state\n",
    "\n",
    "    Returns:\n",
    "        state (dict): New key added to state, documents, that contains retrieved documents\n",
    "    \"\"\"\n",
    "    print(\"---RETRIEVE---\")\n",
    "    question = state[\"question\"]\n",
    "\n",
    "    # Write retrieved documents to documents key in state\n",
    "    documents = retriever.invoke(question)\n",
    "    return {\"documents\": documents}\n",
    "\n",
    "def generate(state):\n",
    "    \"\"\"\n",
    "    Generate answer using RAG on retrieved documents\n",
    "\n",
    "    Args:\n",
    "        state (dict): The current graph state\n",
    "\n",
    "    Returns:\n",
    "        state (dict): New key added to state, generation, that contains LLM generation\n",
    "    \"\"\"\n",
    "    print(\"---GENERATE---\")\n",
    "    question = state[\"question\"]\n",
    "    documents = state[\"documents\"]\n",
    "    loop_step = state.get(\"loop_step\", 0)\n",
    "    \n",
    "    # RAG generation\n",
    "    docs_txt = format_docs(documents)\n",
    "    rag_prompt_formatted = rag_prompt.format(context=docs_txt, question=question)\n",
    "    generation = llm.invoke([HumanMessage(content=rag_prompt_formatted)])\n",
    "    return {\"generation\": generation, \"loop_step\": loop_step+1}\n",
    "\n",
    "def grade_documents(state):\n",
    "    \"\"\"\n",
    "    Determines whether the retrieved documents are relevant to the question\n",
    "    If any document is not relevant, we will set a flag to run web search\n",
    "\n",
    "    Args:\n",
    "        state (dict): The current graph state\n",
    "\n",
    "    Returns:\n",
    "        state (dict): Filtered out irrelevant documents and updated web_search state\n",
    "    \"\"\"\n",
    "\n",
    "    print(\"---CHECK DOCUMENT RELEVANCE TO QUESTION---\")\n",
    "    question = state[\"question\"]\n",
    "    documents = state[\"documents\"]\n",
    "    \n",
    "    # Score each doc\n",
    "    filtered_docs = []\n",
    "    web_search = \"No\" \n",
    "    for d in documents:\n",
    "        doc_grader_prompt_formatted = doc_grader_prompt.format(document=d.page_content, question=question)\n",
    "        result = llm_json_mode.invoke([SystemMessage(content=doc_grader_instructions)] + [HumanMessage(content=doc_grader_prompt_formatted)])\n",
    "        grade = json.loads(result.content)['binary_score']\n",
    "        # Document relevant\n",
    "        if grade.lower() == \"yes\":\n",
    "            print(\"---GRADE: DOCUMENT RELEVANT---\")\n",
    "            filtered_docs.append(d)\n",
    "        # Document not relevant\n",
    "        else:\n",
    "            print(\"---GRADE: DOCUMENT NOT RELEVANT---\")\n",
    "            # We do not include the document in filtered_docs\n",
    "            # We set a flag to indicate that we want to run web search\n",
    "            web_search = \"Yes\"\n",
    "            continue\n",
    "    return {\"documents\": filtered_docs, \"web_search\": web_search}\n",
    "    \n",
    "def web_search(state):\n",
    "    \"\"\"\n",
    "    Web search based based on the question\n",
    "\n",
    "    Args:\n",
    "        state (dict): The current graph state\n",
    "\n",
    "    Returns:\n",
    "        state (dict): Appended web results to documents\n",
    "    \"\"\"\n",
    "\n",
    "    print(\"---WEB SEARCH---\")\n",
    "    question = state[\"question\"]\n",
    "    documents = state.get(\"documents\", [])\n",
    "\n",
    "    # Web search\n",
    "    docs = web_search_tool.invoke({\"query\": question})\n",
    "    print(\"====== docs ======\", docs)\n",
    "    web_results = \"\\n\".join([d[\"content\"] for d in docs])\n",
    "    web_results = Document(page_content=web_results)\n",
    "    documents.append(web_results)\n",
    "    return {\"documents\": documents}\n",
    "\n",
    "### Edges\n",
    "\n",
    "def route_question(state):\n",
    "    \"\"\"\n",
    "    Route question to web search or RAG \n",
    "\n",
    "    Args:\n",
    "        state (dict): The current graph state\n",
    "\n",
    "    Returns:\n",
    "        str: Next node to call\n",
    "    \"\"\"\n",
    "\n",
    "    print(\"---ROUTE QUESTION---\")\n",
    "    route_question = llm_json_mode.invoke([SystemMessage(content=router_instructions)] + [HumanMessage(content=state[\"question\"])])\n",
    "    source = json.loads(route_question.content)['datasource']\n",
    "    if source == 'websearch':\n",
    "        print(\"---ROUTE QUESTION TO WEB SEARCH---\")\n",
    "        return \"websearch\"\n",
    "    elif source == 'vectorstore':\n",
    "        print(\"---ROUTE QUESTION TO RAG---\")\n",
    "        return \"vectorstore\"\n",
    "\n",
    "def decide_to_generate(state):\n",
    "    \"\"\"\n",
    "    Determines whether to generate an answer, or add web search\n",
    "\n",
    "    Args:\n",
    "        state (dict): The current graph state\n",
    "\n",
    "    Returns:\n",
    "        str: Binary decision for next node to call\n",
    "    \"\"\"\n",
    "\n",
    "    print(\"---ASSESS GRADED DOCUMENTS---\")\n",
    "    question = state[\"question\"]\n",
    "    web_search = state[\"web_search\"]\n",
    "    filtered_documents = state[\"documents\"]\n",
    "\n",
    "    if web_search == \"Yes\":\n",
    "        # All documents have been filtered check_relevance\n",
    "        # We will re-generate a new query\n",
    "        print(\"---DECISION: NOT ALL DOCUMENTS ARE RELEVANT TO QUESTION, INCLUDE WEB SEARCH---\")\n",
    "        return \"websearch\"\n",
    "    else:\n",
    "        # We have relevant documents, so generate answer\n",
    "        print(\"---DECISION: GENERATE---\")\n",
    "        return \"generate\"\n",
    "\n",
    "def grade_generation_v_documents_and_question(state):\n",
    "    \"\"\"\n",
    "    Determines whether the generation is grounded in the document and answers question\n",
    "\n",
    "    Args:\n",
    "        state (dict): The current graph state\n",
    "\n",
    "    Returns:\n",
    "        str: Decision for next node to call\n",
    "    \"\"\"\n",
    "\n",
    "    print(\"---CHECK HALLUCINATIONS---\")\n",
    "    question = state[\"question\"]\n",
    "    documents = state[\"documents\"]\n",
    "    generation = state[\"generation\"]\n",
    "    max_retries = state.get(\"max_retries\", 3) # Default to 3 if not provided\n",
    "\n",
    "    hallucination_grader_prompt_formatted = hallucination_grader_prompt.format(documents=format_docs(documents), generation=generation.content)\n",
    "    result = llm_json_mode.invoke([SystemMessage(content=hallucination_grader_instructions)] + [HumanMessage(content=hallucination_grader_prompt_formatted)])\n",
    "    grade = json.loads(result.content)['binary_score']\n",
    "\n",
    "    # Check hallucination\n",
    "    if grade == \"yes\":\n",
    "        print(\"---DECISION: GENERATION IS GROUNDED IN DOCUMENTS---\")\n",
    "        # Check question-answering\n",
    "        print(\"---GRADE GENERATION vs QUESTION---\")\n",
    "        # Test using question and generation from above \n",
    "        answer_grader_prompt_formatted = answer_grader_prompt.format(question=question, generation=generation.content)\n",
    "        result = llm_json_mode.invoke([SystemMessage(content=answer_grader_instructions)] + [HumanMessage(content=answer_grader_prompt_formatted)])\n",
    "        grade = json.loads(result.content)['binary_score']\n",
    "        if grade == \"yes\":\n",
    "            print(\"---DECISION: GENERATION ADDRESSES QUESTION---\")\n",
    "            return \"useful\"\n",
    "        elif state[\"loop_step\"] <= max_retries:\n",
    "            print(\"---DECISION: GENERATION DOES NOT ADDRESS QUESTION---\")\n",
    "            return \"not useful\"\n",
    "        else:\n",
    "            print(\"---DECISION: MAX RETRIES REACHED---\")\n",
    "            return \"max retries\"  \n",
    "    elif state[\"loop_step\"] <= max_retries:\n",
    "        print(\"---DECISION: GENERATION IS NOT GROUNDED IN DOCUMENTS, RE-TRY---\")\n",
    "        return \"not supported\"\n",
    "    else:\n",
    "        print(\"---DECISION: MAX RETRIES REACHED---\")\n",
    "        return \"max retries\""
   ]
  },
  {
   "cell_type": "code",
   "execution_count": 49,
   "id": "4cf9fe27-4187-4c64-bc72-015ee497c278",
   "metadata": {},
   "outputs": [
    {
     "data": {
      "image/jpeg": "[encoded data removed]",
      "text/plain": [
       "<IPython.core.display.Image object>"
      ]
     },
     "metadata": {},
     "output_type": "display_data"
    }
   ],
   "source": [
    "from langgraph.graph import StateGraph\n",
    "from IPython.display import Image, display\n",
    "\n",
    "workflow = StateGraph(GraphState)\n",
    "\n",
    "# Define the nodes\n",
    "workflow.add_node(\"websearch\", web_search)  # web search\n",
    "workflow.add_node(\"retrieve\", retrieve)  # retrieve\n",
    "workflow.add_node(\"grade_documents\", grade_documents)  # grade documents\n",
    "workflow.add_node(\"generate\", generate)  # generate\n",
    "\n",
    "# Build graph\n",
    "workflow.set_conditional_entry_point(\n",
    "    route_question,\n",
    "    {\n",
    "        \"websearch\": \"websearch\",\n",
    "        \"vectorstore\": \"retrieve\",\n",
    "    },\n",
    ")\n",
    "\n",
    "workflow.add_edge(\"websearch\", \"generate\")\n",
    "workflow.add_edge(\"retrieve\", \"grade_documents\")\n",
    "workflow.add_conditional_edges(\n",
    "    \"grade_documents\",\n",
    "    decide_to_generate,\n",
    "    {\n",
    "        \"websearch\": \"websearch\",\n",
    "        \"generate\": \"generate\",\n",
    "    },\n",
    ")\n",
    "\n",
    "workflow.add_conditional_edges(\n",
    "    \"generate\",\n",
    "    grade_generation_v_documents_and_question,\n",
    "    {\n",
    "        \"not supported\": \"generate\",\n",
    "        \"useful\": END,\n",
    "        \"not useful\": \"websearch\",\n",
    "        \"max retries\": END,\n",
    "    },\n",
    ")\n",
    "\n",
    "# Compile\n",
    "graph = workflow.compile()\n",
    "display(Image(graph.get_graph().draw_mermaid_png()))\n",
    "\n"
   ]
  },
  {
   "cell_type": "code",
   "execution_count": 50,
   "id": "a2581ef1-4ee9-4838-8af9-db8871fea655",
   "metadata": {},
   "outputs": [
    {
     "name": "stdout",
     "output_type": "stream",
     "text": [
      "---ROUTE QUESTION---\n",
      "---ROUTE QUESTION TO WEB SEARCH---\n",
      "{'question': '火災時該如何？', 'max_retries': 3, 'loop_step': 0}\n",
      "---WEB SEARCH---\n",
      "====== docs ====== [{'url': 'https://yimedia.com.tw/lifestyle/594699/', 'content': '小; 中; 大; 消防局指出，遇到火災時，應立即以關門、避難或逃生為最高原則。（示意圖／翻攝Pexels） 新竹東區慈雲路28樓社區大樓「晴空匯」於26日深夜發生火警，導致大樓共351名住戶受困，消防人員耗時10餘小時全數救出，也讓民眾擔憂發生火災到底該如何自救，過去台南市消防局也曾宣導火場 ...'}, {'url': 'https://www.ettoday.net/news/20240528/2747382.htm', 'content': '消防局指出，遇到火災時，應立即以關門、避難或逃生為最高原則。（示意圖／翻攝Pexels） 圖文／CTWANT. 新竹東區慈雲路28樓社區大樓「晴空匯」於26 ...'}, {'url': 'https://today.line.me/tw/v2/article/9lyK3r', 'content': '逃生時低姿勢該怎麼做？ 【求生隨堂考】 在學校時，你一定聽老師們說過：「遇到火災時切勿驚慌，應該保持鎮定，並採取低姿勢逃生。」聽起來好像很容易，就你的理解，低姿勢應該怎麼做才對？ a.跪地手掌撐地爬行。 b.如行軍般匍匐前進。'}, {'url': 'https://www.tfdp.com.tw/cht/index.php?code=list&ids=17', 'content': '火災 知識. 關於火災小常識，你知道多少呢？該如何防範火災的發生？火災時如何緊急應變？災後處理一次告訴你，讓你成為 ...'}, {'url': 'https://www.youtube.com/watch?v=99TERJ5MDSo', 'content': '發生火災的第一時間，到底應該怎麼辦呢!？第一步就是先示警家人，大聲呼喊『失火了!』，讓家人先從主要出入口逃生，或是前往相對安全區 ...'}]\n",
      "{'question': '火災時該如何？', 'max_retries': 3, 'loop_step': 0, 'documents': [Document(metadata={}, page_content='小; 中; 大; 消防局指出，遇到火災時，應立即以關門、避難或逃生為最高原則。（示意圖／翻攝Pexels） 新竹東區慈雲路28樓社區大樓「晴空匯」於26日深夜發生火警，導致大樓共351名住戶受困，消防人員耗時10餘小時全數救出，也讓民眾擔憂發生火災到底該如何自救，過去台南市消防局也曾宣導火場 ...\\n消防局指出，遇到火災時，應立即以關門、避難或逃生為最高原則。（示意圖／翻攝Pexels） 圖文／CTWANT. 新竹東區慈雲路28樓社區大樓「晴空匯」於26 ...\\n逃生時低姿勢該怎麼做？ 【求生隨堂考】 在學校時，你一定聽老師們說過：「遇到火災時切勿驚慌，應該保持鎮定，並採取低姿勢逃生。」聽起來好像很容易，就你的理解，低姿勢應該怎麼做才對？ a.跪地手掌撐地爬行。 b.如行軍般匍匐前進。\\n火災 知識. 關於火災小常識，你知道多少呢？該如何防範火災的發生？火災時如何緊急應變？災後處理一次告訴你，讓你成為 ...\\n發生火災的第一時間，到底應該怎麼辦呢!？第一步就是先示警家人，大聲呼喊『失火了!』，讓家人先從主要出入口逃生，或是前往相對安全區 ...')]}\n",
      "---GENERATE---\n",
      "---CHECK HALLUCINATIONS---\n",
      "---DECISION: GENERATION IS NOT GROUNDED IN DOCUMENTS, RE-TRY---\n",
      "{'question': '火災時該如何？', 'generation': AIMessage(content='根據消防局的指導，遇到火災時應立即以關門、避難或逃生為最高原則。當需要逃生時，應該採取低姿勢，例如像行軍般匍匐前進。第一步是先示警家人，大聲呼喊『失火了!』，讓家人先從主要出入口逃生。', additional_kwargs={}, response_metadata={'model': 'llama3.2:3b-instruct-fp16', 'created_at': '2024-09-29T06:28:26.064485Z', 'message': {'role': 'assistant', 'content': ''}, 'done_reason': 'stop', 'done': True, 'total_duration': 7944321250, 'load_duration': 37046583, 'prompt_eval_count': 502, 'prompt_eval_duration': 1252834000, 'eval_count': 88, 'eval_duration': 6652813000}, id='run-dfbfa043-b093-45da-9d7f-cb8e750d7c5e-0', usage_metadata={'input_tokens': 502, 'output_tokens': 88, 'total_tokens': 590}), 'max_retries': 3, 'loop_step': 1, 'documents': [Document(metadata={}, page_content='小; 中; 大; 消防局指出，遇到火災時，應立即以關門、避難或逃生為最高原則。（示意圖／翻攝Pexels） 新竹東區慈雲路28樓社區大樓「晴空匯」於26日深夜發生火警，導致大樓共351名住戶受困，消防人員耗時10餘小時全數救出，也讓民眾擔憂發生火災到底該如何自救，過去台南市消防局也曾宣導火場 ...\\n消防局指出，遇到火災時，應立即以關門、避難或逃生為最高原則。（示意圖／翻攝Pexels） 圖文／CTWANT. 新竹東區慈雲路28樓社區大樓「晴空匯」於26 ...\\n逃生時低姿勢該怎麼做？ 【求生隨堂考】 在學校時，你一定聽老師們說過：「遇到火災時切勿驚慌，應該保持鎮定，並採取低姿勢逃生。」聽起來好像很容易，就你的理解，低姿勢應該怎麼做才對？ a.跪地手掌撐地爬行。 b.如行軍般匍匐前進。\\n火災 知識. 關於火災小常識，你知道多少呢？該如何防範火災的發生？火災時如何緊急應變？災後處理一次告訴你，讓你成為 ...\\n發生火災的第一時間，到底應該怎麼辦呢!？第一步就是先示警家人，大聲呼喊『失火了!』，讓家人先從主要出入口逃生，或是前往相對安全區 ...')]}\n",
      "---GENERATE---\n",
      "---CHECK HALLUCINATIONS---\n",
      "---DECISION: GENERATION IS NOT GROUNDED IN DOCUMENTS, RE-TRY---\n",
      "{'question': '火災時該如何？', 'generation': AIMessage(content='根據消防局的指導，遇到火災時應立即以關門、避難或逃生為最高原則。當需要逃生時，應該採取低姿勢，例如像行軍般匍匐前進。第一步是先示警家人，大聲呼喊『失火了!』，讓家人先從主要出入口逃生。', additional_kwargs={}, response_metadata={'model': 'llama3.2:3b-instruct-fp16', 'created_at': '2024-09-29T06:28:56.473278Z', 'message': {'role': 'assistant', 'content': ''}, 'done_reason': 'stop', 'done': True, 'total_duration': 7991849583, 'load_duration': 16236667, 'prompt_eval_count': 502, 'prompt_eval_duration': 1105138000, 'eval_count': 88, 'eval_duration': 6868683000}, id='run-3e8c55fc-a68f-420d-bf8e-c3a36f60c287-0', usage_metadata={'input_tokens': 502, 'output_tokens': 88, 'total_tokens': 590}), 'max_retries': 3, 'loop_step': 3, 'documents': [Document(metadata={}, page_content='小; 中; 大; 消防局指出，遇到火災時，應立即以關門、避難或逃生為最高原則。（示意圖／翻攝Pexels） 新竹東區慈雲路28樓社區大樓「晴空匯」於26日深夜發生火警，導致大樓共351名住戶受困，消防人員耗時10餘小時全數救出，也讓民眾擔憂發生火災到底該如何自救，過去台南市消防局也曾宣導火場 ...\\n消防局指出，遇到火災時，應立即以關門、避難或逃生為最高原則。（示意圖／翻攝Pexels） 圖文／CTWANT. 新竹東區慈雲路28樓社區大樓「晴空匯」於26 ...\\n逃生時低姿勢該怎麼做？ 【求生隨堂考】 在學校時，你一定聽老師們說過：「遇到火災時切勿驚慌，應該保持鎮定，並採取低姿勢逃生。」聽起來好像很容易，就你的理解，低姿勢應該怎麼做才對？ a.跪地手掌撐地爬行。 b.如行軍般匍匐前進。\\n火災 知識. 關於火災小常識，你知道多少呢？該如何防範火災的發生？火災時如何緊急應變？災後處理一次告訴你，讓你成為 ...\\n發生火災的第一時間，到底應該怎麼辦呢!？第一步就是先示警家人，大聲呼喊『失火了!』，讓家人先從主要出入口逃生，或是前往相對安全區 ...')]}\n",
      "---GENERATE---\n",
      "---CHECK HALLUCINATIONS---\n",
      "---DECISION: MAX RETRIES REACHED---\n",
      "{'question': '火災時該如何？', 'generation': AIMessage(content='根據消防局的指導，遇到火災時應立即以關門、避難或逃生為最高原則。當需要逃生時，應該採取低姿勢，例如像行軍般匍匐前進。第一步是先示警家人，大聲呼喊『失火了!』，讓家人先從主要出入口逃生。', additional_kwargs={}, response_metadata={'model': 'llama3.2:3b-instruct-fp16', 'created_at': '2024-09-29T06:29:27.259277Z', 'message': {'role': 'assistant', 'content': ''}, 'done_reason': 'stop', 'done': True, 'total_duration': 8021993709, 'load_duration': 25692709, 'prompt_eval_count': 502, 'prompt_eval_duration': 1095745000, 'eval_count': 88, 'eval_duration': 6895347000}, id='run-e459b885-a9dc-485f-8c64-ba8e72c49886-0', usage_metadata={'input_tokens': 502, 'output_tokens': 88, 'total_tokens': 590}), 'max_retries': 3, 'loop_step': 7, 'documents': [Document(metadata={}, page_content='小; 中; 大; 消防局指出，遇到火災時，應立即以關門、避難或逃生為最高原則。（示意圖／翻攝Pexels） 新竹東區慈雲路28樓社區大樓「晴空匯」於26日深夜發生火警，導致大樓共351名住戶受困，消防人員耗時10餘小時全數救出，也讓民眾擔憂發生火災到底該如何自救，過去台南市消防局也曾宣導火場 ...\\n消防局指出，遇到火災時，應立即以關門、避難或逃生為最高原則。（示意圖／翻攝Pexels） 圖文／CTWANT. 新竹東區慈雲路28樓社區大樓「晴空匯」於26 ...\\n逃生時低姿勢該怎麼做？ 【求生隨堂考】 在學校時，你一定聽老師們說過：「遇到火災時切勿驚慌，應該保持鎮定，並採取低姿勢逃生。」聽起來好像很容易，就你的理解，低姿勢應該怎麼做才對？ a.跪地手掌撐地爬行。 b.如行軍般匍匐前進。\\n火災 知識. 關於火災小常識，你知道多少呢？該如何防範火災的發生？火災時如何緊急應變？災後處理一次告訴你，讓你成為 ...\\n發生火災的第一時間，到底應該怎麼辦呢!？第一步就是先示警家人，大聲呼喊『失火了!』，讓家人先從主要出入口逃生，或是前往相對安全區 ...')]}\n"
     ]
    }
   ],
   "source": [
    "inputs = {'question': \"火災時該如何？\", \"max_retries\": 3}\n",
    "for event in graph.stream(inputs, stream_mode=\"values\"):\n",
    "    print(event)"
   ]
  },
  {
   "cell_type": "code",
   "execution_count": 38,
   "id": "fe85128b-2e57-41b4-b4f9-c33960f94f58",
   "metadata": {},
   "outputs": [
    {
     "name": "stdout",
     "output_type": "stream",
     "text": [
      "---ROUTE QUESTION---\n",
      "---ROUTE QUESTION TO RAG---\n",
      "{'question': '火災時不可搭乘電梯逃生？', 'max_retries': 3, 'loop_step': 0}\n",
      "---RETRIEVE---\n",
      "{'question': '火災時不可搭乘電梯逃生？', 'max_retries': 3, 'loop_step': 0, 'documents': [Document(metadata={'id': 'f6ef05bd-2bc9-45bf-a34f-32a142585118', 'source': '/Users/davis_chang/code/project/llm-rag-pdf-image-markdown/local-adaptive-rag-llama3/data/news.ebc.net.tw_2024-08-23.json', 'seq_num': 58}, page_content='逃生6要訣 內政部指出，過去坊間流傳遇到火警找濕毛巾遮口鼻、用塑膠袋套頭、躲在浴室等，都是錯誤的逃生觀念，若不幸遇到火警，請記得「5不1原則」的應變逃生6要訣： 一、 不可為了收拾財物而延誤逃生避難時間，應以保命求生為首要目標。 二、 不可搭乘電梯逃生：火場易斷電，會受困在電梯內。 三、 不可躲在浴室：火場危害主要為濃煙，浴室門及天花板大多為塑膠材質，不耐高溫，且門下方為通風百葉，無法有效阻絕濃煙危害。 四、 不可用塑膠袋套頭：除無法裝到新鮮空氣，且呼吸產生的霧氣，會影響逃生視線及速度，若遇火場高溫，塑膠袋也會熔化而黏在皮膚上。 五、 不可浪費時間尋找濕毛巾而延誤逃生避難：濕毛巾擋不住濃煙中的一氧化碳和有毒氣體，且尋找濕毛巾恐延誤逃生時間。 六、 火場逃生避難流程原則 (一) 平時規劃2個逃生出口。 (二) 火災時，應往1樓往外逃生，逃生避難時，一定要謹記隨手關門。 (三) 往1樓往外逃生時，若主要逃生路徑外已有濃煙無法避難時，請尋找第2逃生路徑往1樓往外逃生；若第2逃生路徑也受阻礙，則改往未起火相對安全空間關門避難，並用衣物或毛巾將門縫塞住，防止煙霧流入，並撥打119求援，詳細告知待救人員的所在位置，等待消防人員救援。 內政部強調，火場無情，惟有強化自身火災預防及應變知識，平時謹記逃生避難原則，才能保障生命財產的安全。 一手掌握生活大小事，快來加入東森新聞唷！'), Document(metadata={'id': '712c1ea2-790a-4b40-9c48-fb9e396b43cf', 'source': '/Users/davis_chang/code/project/llm-rag-pdf-image-markdown/local-adaptive-rag-llama3/data/finance.ettoday.net_2024-09-03.json', 'seq_num': 51}, page_content='▲鍋子火勢甚至越來越旺「發爐」，讓女主播嚇到花容失色，不斷驚聲尖叫。（翻自X平台） 圖文／鏡週刊 美國佛羅里達一名女直播主，近日在進行色色廚房的直播拍攝時，突然瞬間變成火警現場，讓網友與粉絲都嚇壞。 影片可見，女直播主穿著性感清涼，進行「色色廚房」拍攝，但不知為何鍋子突然燒起來，火勢甚至越來越旺「發爐」，讓女主播嚇到花容失色，不斷驚聲尖叫。旁邊一名男性工作人員發現狀況不對，跑過來幫忙，但他們沒有使用滅火器，而是打開流理台下方櫃子，之後男子把燒起來的鍋子，直接丟進流理台下方。 ▲鍋子的火勢一發不可收拾。（翻自X平台） 這時鏡頭沒有再看到火苗竄出，燒紅的電磁爐具也沒再冒出大火。但女主播依舊驚魂未定，不斷呼喊「歐買尬」，最後要求男子把大門打開，影片也到此結束。這段18禁情色廚房秒變恐怖火警的片段，隨即被網友們傳開並熱議，網友們也直呼：「好恐怖！」、「注意安全是最重要的。」、「這樣滅火方法對嗎？」、「為何不先關火？」 美国????????直播主，做饭的时候几乎烧毁了她的厨房和公寓。 pic.twitter.com/vAygvj27Ly 更多鏡週刊報導 為流量不要命 又一中國重機正妹車禍慘死！曾炫耀時速飆265公里 【41J肉聲】厲害了中國女三寶！逆向撞車還連搧對方10巴掌 身分被起底 不是鬼片！日本防範珊珊颱風拆坂本龍馬雕像 畫面太詭異引熱議 分享給朋友： 追蹤我們：'), Document(metadata={'id': 'c8371a5d-ae6b-4902-8e89-9c7042037e41', 'source': '/Users/davis_chang/code/project/llm-rag-pdf-image-markdown/local-adaptive-rag-llama3/data/finance.ettoday.net_2024-08-23.json', 'seq_num': 47}, page_content='附近一名鄭姓居民表示，「從中國來旅遊的朋友們剛好住在這，還好火災發生前他們已經出門和朋友吃晚餐，逃過一劫。」 另外，還有4名哈薩克籍旅客入住，原本預計安排在南韓接受健檢、手術，幸好最後幸免於難。一名住在附近的40多歲俄籍女性表示，「來自哈薩克、吉爾吉斯、烏茲別克等外籍旅客住在這附近飯店好一陣子了。」 報導指出，該間飯店的64間客房並未設置消防灑水器。由於南韓直到2017年才強化消防法規，強制規定6層樓以上之建築物必須安裝灑水器，不過該棟發生火災的飯店於2003年竣工，因此並未強制安裝灑水器。 호텔 화재 에어매트 뛰어내린 2명 사망 경기 부천 호텔 화재 사망자 2명은 에어매트 대피 중 사망 소방당국이 설치한 에어매트 위로 뛰어내렸다가 사망을 당한 것으로 알려졌다. pic.twitter.com/AdXFxE4hPC ►飯店大火跳樓逃生慘死！氣墊「上下翻轉」直摔撞地 曝超過使用年限 分享給朋友： 追蹤我們：'), Document(metadata={'id': 'ed904c89-eb92-4a4e-bb1e-6e44519fa90e', 'source': '/Users/davis_chang/code/project/llm-rag-pdf-image-markdown/local-adaptive-rag-llama3/data/finance.ettoday.net_2024-08-23.json', 'seq_num': 59}, page_content='▲京畿道富川市某飯店發生火災，警方、消防23日派遣人員前往現場進行鑑識工作。（圖／達志影像／美聯社） 記者羅翊宬／編譯 南韓京畿道富川一間觀光飯店昨（22）日晚間發生大火，釀成7人死亡（皆韓籍）、12人輕重傷的慘劇，包含一對男女跳樓逃生時，因未受氣墊保護意外死亡。不過，一名生還的護理女大生回憶，火災時濃煙瀰漫，她只好躲進浴室打開蓮蓬頭淋濕頭部，最後奇蹟獲救。 根據《韓聯社》、《News1》，京畿道富川市遠美區中洞某9層樓的觀光飯店22日晚間7時39分發生大火，火勢和散佈著有毒氣體的濃煙從810號客房瀰漫至8、9樓，造成7人死亡、12人輕重傷，他們被發現時大多躺在8、9樓的客房、樓梯、走廊，不過住在806號房的20多歲女大生卻機智生還。 該名女大生就讀位於江原特別自治道江陵市某大學的護理學系，最近為了要前往京畿道富川市某大學醫院實習，而入住發生火災的飯店。但是，女大生入住的客房是806號，與起火的810號房相距不遠，也因此當她聞到燒焦味時，便立刻意識到失火了。 ▲護理女大生實習期間入住飯店，卻遇到火災。（圖／達志影像／newscom） 女大生回憶，「當我聞到一股燒焦味時，我打開房間門，結果發現整條走廊佈滿黑色濃煙，伸手不見五指」；於是，女大生只好緊閉玄關門，試圖打開客房反方向的窗戶，原本她想要逃到樓下，不過看見走廊全是黑煙後，才決定緊閉所有門窗、逃進房間浴室內。 在九死一生的狀態下，女大生緊急撥打電話119向消防隊員求助，最後依照消防隊員指示，用飯店提供的毛巾塞住浴室的門縫、阻止濃煙從門縫滲進來，並打開蓮蓬頭的水淋濕頭部，此刻她腦中浮現過去所學到的知識，只要打開蓮蓬頭、讓水或火蒸氣形成「水幕」，就能夠暫時阻斷有毒氣體。 女大生事後受訪表示，「火災發生時，我跑進浴室打開蓮蓬頭、淋濕頭部。因為我知道，『一氧化碳』會溶解於水。（經查維基百科，一氧化碳在水中溶解度甚低，推測應為口誤）」 ▲住在女大生隔壁房的一對男女跳樓逃生時，因氣墊翻轉而導致彈飛慘死。（圖／翻攝自X）')]}\n",
      "---CHECK DOCUMENT RELEVANCE TO QUESTION---\n",
      "---GRADE: DOCUMENT RELEVANT---\n",
      "---GRADE: DOCUMENT RELEVANT---\n",
      "---GRADE: DOCUMENT RELEVANT---\n",
      "---GRADE: DOCUMENT RELEVANT---\n",
      "---ASSESS GRADED DOCUMENTS---\n",
      "---DECISION: GENERATE---\n",
      "{'question': '火災時不可搭乘電梯逃生？', 'web_search': 'No', 'max_retries': 3, 'loop_step': 0, 'documents': [Document(metadata={'id': 'f6ef05bd-2bc9-45bf-a34f-32a142585118', 'source': '/Users/davis_chang/code/project/llm-rag-pdf-image-markdown/local-adaptive-rag-llama3/data/news.ebc.net.tw_2024-08-23.json', 'seq_num': 58}, page_content='逃生6要訣 內政部指出，過去坊間流傳遇到火警找濕毛巾遮口鼻、用塑膠袋套頭、躲在浴室等，都是錯誤的逃生觀念，若不幸遇到火警，請記得「5不1原則」的應變逃生6要訣： 一、 不可為了收拾財物而延誤逃生避難時間，應以保命求生為首要目標。 二、 不可搭乘電梯逃生：火場易斷電，會受困在電梯內。 三、 不可躲在浴室：火場危害主要為濃煙，浴室門及天花板大多為塑膠材質，不耐高溫，且門下方為通風百葉，無法有效阻絕濃煙危害。 四、 不可用塑膠袋套頭：除無法裝到新鮮空氣，且呼吸產生的霧氣，會影響逃生視線及速度，若遇火場高溫，塑膠袋也會熔化而黏在皮膚上。 五、 不可浪費時間尋找濕毛巾而延誤逃生避難：濕毛巾擋不住濃煙中的一氧化碳和有毒氣體，且尋找濕毛巾恐延誤逃生時間。 六、 火場逃生避難流程原則 (一) 平時規劃2個逃生出口。 (二) 火災時，應往1樓往外逃生，逃生避難時，一定要謹記隨手關門。 (三) 往1樓往外逃生時，若主要逃生路徑外已有濃煙無法避難時，請尋找第2逃生路徑往1樓往外逃生；若第2逃生路徑也受阻礙，則改往未起火相對安全空間關門避難，並用衣物或毛巾將門縫塞住，防止煙霧流入，並撥打119求援，詳細告知待救人員的所在位置，等待消防人員救援。 內政部強調，火場無情，惟有強化自身火災預防及應變知識，平時謹記逃生避難原則，才能保障生命財產的安全。 一手掌握生活大小事，快來加入東森新聞唷！'), Document(metadata={'id': '712c1ea2-790a-4b40-9c48-fb9e396b43cf', 'source': '/Users/davis_chang/code/project/llm-rag-pdf-image-markdown/local-adaptive-rag-llama3/data/finance.ettoday.net_2024-09-03.json', 'seq_num': 51}, page_content='▲鍋子火勢甚至越來越旺「發爐」，讓女主播嚇到花容失色，不斷驚聲尖叫。（翻自X平台） 圖文／鏡週刊 美國佛羅里達一名女直播主，近日在進行色色廚房的直播拍攝時，突然瞬間變成火警現場，讓網友與粉絲都嚇壞。 影片可見，女直播主穿著性感清涼，進行「色色廚房」拍攝，但不知為何鍋子突然燒起來，火勢甚至越來越旺「發爐」，讓女主播嚇到花容失色，不斷驚聲尖叫。旁邊一名男性工作人員發現狀況不對，跑過來幫忙，但他們沒有使用滅火器，而是打開流理台下方櫃子，之後男子把燒起來的鍋子，直接丟進流理台下方。 ▲鍋子的火勢一發不可收拾。（翻自X平台） 這時鏡頭沒有再看到火苗竄出，燒紅的電磁爐具也沒再冒出大火。但女主播依舊驚魂未定，不斷呼喊「歐買尬」，最後要求男子把大門打開，影片也到此結束。這段18禁情色廚房秒變恐怖火警的片段，隨即被網友們傳開並熱議，網友們也直呼：「好恐怖！」、「注意安全是最重要的。」、「這樣滅火方法對嗎？」、「為何不先關火？」 美国????????直播主，做饭的时候几乎烧毁了她的厨房和公寓。 pic.twitter.com/vAygvj27Ly 更多鏡週刊報導 為流量不要命 又一中國重機正妹車禍慘死！曾炫耀時速飆265公里 【41J肉聲】厲害了中國女三寶！逆向撞車還連搧對方10巴掌 身分被起底 不是鬼片！日本防範珊珊颱風拆坂本龍馬雕像 畫面太詭異引熱議 分享給朋友： 追蹤我們：'), Document(metadata={'id': 'c8371a5d-ae6b-4902-8e89-9c7042037e41', 'source': '/Users/davis_chang/code/project/llm-rag-pdf-image-markdown/local-adaptive-rag-llama3/data/finance.ettoday.net_2024-08-23.json', 'seq_num': 47}, page_content='附近一名鄭姓居民表示，「從中國來旅遊的朋友們剛好住在這，還好火災發生前他們已經出門和朋友吃晚餐，逃過一劫。」 另外，還有4名哈薩克籍旅客入住，原本預計安排在南韓接受健檢、手術，幸好最後幸免於難。一名住在附近的40多歲俄籍女性表示，「來自哈薩克、吉爾吉斯、烏茲別克等外籍旅客住在這附近飯店好一陣子了。」 報導指出，該間飯店的64間客房並未設置消防灑水器。由於南韓直到2017年才強化消防法規，強制規定6層樓以上之建築物必須安裝灑水器，不過該棟發生火災的飯店於2003年竣工，因此並未強制安裝灑水器。 호텔 화재 에어매트 뛰어내린 2명 사망 경기 부천 호텔 화재 사망자 2명은 에어매트 대피 중 사망 소방당국이 설치한 에어매트 위로 뛰어내렸다가 사망을 당한 것으로 알려졌다. pic.twitter.com/AdXFxE4hPC ►飯店大火跳樓逃生慘死！氣墊「上下翻轉」直摔撞地 曝超過使用年限 分享給朋友： 追蹤我們：'), Document(metadata={'id': 'ed904c89-eb92-4a4e-bb1e-6e44519fa90e', 'source': '/Users/davis_chang/code/project/llm-rag-pdf-image-markdown/local-adaptive-rag-llama3/data/finance.ettoday.net_2024-08-23.json', 'seq_num': 59}, page_content='▲京畿道富川市某飯店發生火災，警方、消防23日派遣人員前往現場進行鑑識工作。（圖／達志影像／美聯社） 記者羅翊宬／編譯 南韓京畿道富川一間觀光飯店昨（22）日晚間發生大火，釀成7人死亡（皆韓籍）、12人輕重傷的慘劇，包含一對男女跳樓逃生時，因未受氣墊保護意外死亡。不過，一名生還的護理女大生回憶，火災時濃煙瀰漫，她只好躲進浴室打開蓮蓬頭淋濕頭部，最後奇蹟獲救。 根據《韓聯社》、《News1》，京畿道富川市遠美區中洞某9層樓的觀光飯店22日晚間7時39分發生大火，火勢和散佈著有毒氣體的濃煙從810號客房瀰漫至8、9樓，造成7人死亡、12人輕重傷，他們被發現時大多躺在8、9樓的客房、樓梯、走廊，不過住在806號房的20多歲女大生卻機智生還。 該名女大生就讀位於江原特別自治道江陵市某大學的護理學系，最近為了要前往京畿道富川市某大學醫院實習，而入住發生火災的飯店。但是，女大生入住的客房是806號，與起火的810號房相距不遠，也因此當她聞到燒焦味時，便立刻意識到失火了。 ▲護理女大生實習期間入住飯店，卻遇到火災。（圖／達志影像／newscom） 女大生回憶，「當我聞到一股燒焦味時，我打開房間門，結果發現整條走廊佈滿黑色濃煙，伸手不見五指」；於是，女大生只好緊閉玄關門，試圖打開客房反方向的窗戶，原本她想要逃到樓下，不過看見走廊全是黑煙後，才決定緊閉所有門窗、逃進房間浴室內。 在九死一生的狀態下，女大生緊急撥打電話119向消防隊員求助，最後依照消防隊員指示，用飯店提供的毛巾塞住浴室的門縫、阻止濃煙從門縫滲進來，並打開蓮蓬頭的水淋濕頭部，此刻她腦中浮現過去所學到的知識，只要打開蓮蓬頭、讓水或火蒸氣形成「水幕」，就能夠暫時阻斷有毒氣體。 女大生事後受訪表示，「火災發生時，我跑進浴室打開蓮蓬頭、淋濕頭部。因為我知道，『一氧化碳』會溶解於水。（經查維基百科，一氧化碳在水中溶解度甚低，推測應為口誤）」 ▲住在女大生隔壁房的一對男女跳樓逃生時，因氣墊翻轉而導致彈飛慘死。（圖／翻攝自X）')]}\n",
      "---GENERATE---\n",
      "---CHECK HALLUCINATIONS---\n",
      "---DECISION: GENERATION IS GROUNDED IN DOCUMENTS---\n",
      "---GRADE GENERATION vs QUESTION---\n",
      "---DECISION: GENERATION ADDRESSES QUESTION---\n",
      "{'question': '火災時不可搭乘電梯逃生？', 'generation': AIMessage(content='根據上下文，當發生大火時，應該避免搭乘電梯，因為電梯可能會被濃煙擋塞或是因為火災而出現安全問題。因此，最佳的逃生方法是直接跳樓或是使用楼梯逃生。', additional_kwargs={}, response_metadata={'model': 'llama3.2:3b-instruct-fp16', 'created_at': '2024-09-29T06:17:00.625725Z', 'message': {'role': 'assistant', 'content': ''}, 'done_reason': 'stop', 'done': True, 'total_duration': 7412616166, 'load_duration': 12474500, 'prompt_eval_count': 1026, 'prompt_eval_duration': 2253409000, 'eval_count': 65, 'eval_duration': 5145888000}, id='run-ee2af596-ffa9-4bae-87fd-5d75268e9995-0', usage_metadata={'input_tokens': 1026, 'output_tokens': 65, 'total_tokens': 1091}), 'web_search': 'No', 'max_retries': 3, 'loop_step': 1, 'documents': [Document(metadata={'id': 'f6ef05bd-2bc9-45bf-a34f-32a142585118', 'source': '/Users/davis_chang/code/project/llm-rag-pdf-image-markdown/local-adaptive-rag-llama3/data/news.ebc.net.tw_2024-08-23.json', 'seq_num': 58}, page_content='逃生6要訣 內政部指出，過去坊間流傳遇到火警找濕毛巾遮口鼻、用塑膠袋套頭、躲在浴室等，都是錯誤的逃生觀念，若不幸遇到火警，請記得「5不1原則」的應變逃生6要訣： 一、 不可為了收拾財物而延誤逃生避難時間，應以保命求生為首要目標。 二、 不可搭乘電梯逃生：火場易斷電，會受困在電梯內。 三、 不可躲在浴室：火場危害主要為濃煙，浴室門及天花板大多為塑膠材質，不耐高溫，且門下方為通風百葉，無法有效阻絕濃煙危害。 四、 不可用塑膠袋套頭：除無法裝到新鮮空氣，且呼吸產生的霧氣，會影響逃生視線及速度，若遇火場高溫，塑膠袋也會熔化而黏在皮膚上。 五、 不可浪費時間尋找濕毛巾而延誤逃生避難：濕毛巾擋不住濃煙中的一氧化碳和有毒氣體，且尋找濕毛巾恐延誤逃生時間。 六、 火場逃生避難流程原則 (一) 平時規劃2個逃生出口。 (二) 火災時，應往1樓往外逃生，逃生避難時，一定要謹記隨手關門。 (三) 往1樓往外逃生時，若主要逃生路徑外已有濃煙無法避難時，請尋找第2逃生路徑往1樓往外逃生；若第2逃生路徑也受阻礙，則改往未起火相對安全空間關門避難，並用衣物或毛巾將門縫塞住，防止煙霧流入，並撥打119求援，詳細告知待救人員的所在位置，等待消防人員救援。 內政部強調，火場無情，惟有強化自身火災預防及應變知識，平時謹記逃生避難原則，才能保障生命財產的安全。 一手掌握生活大小事，快來加入東森新聞唷！'), Document(metadata={'id': '712c1ea2-790a-4b40-9c48-fb9e396b43cf', 'source': '/Users/davis_chang/code/project/llm-rag-pdf-image-markdown/local-adaptive-rag-llama3/data/finance.ettoday.net_2024-09-03.json', 'seq_num': 51}, page_content='▲鍋子火勢甚至越來越旺「發爐」，讓女主播嚇到花容失色，不斷驚聲尖叫。（翻自X平台） 圖文／鏡週刊 美國佛羅里達一名女直播主，近日在進行色色廚房的直播拍攝時，突然瞬間變成火警現場，讓網友與粉絲都嚇壞。 影片可見，女直播主穿著性感清涼，進行「色色廚房」拍攝，但不知為何鍋子突然燒起來，火勢甚至越來越旺「發爐」，讓女主播嚇到花容失色，不斷驚聲尖叫。旁邊一名男性工作人員發現狀況不對，跑過來幫忙，但他們沒有使用滅火器，而是打開流理台下方櫃子，之後男子把燒起來的鍋子，直接丟進流理台下方。 ▲鍋子的火勢一發不可收拾。（翻自X平台） 這時鏡頭沒有再看到火苗竄出，燒紅的電磁爐具也沒再冒出大火。但女主播依舊驚魂未定，不斷呼喊「歐買尬」，最後要求男子把大門打開，影片也到此結束。這段18禁情色廚房秒變恐怖火警的片段，隨即被網友們傳開並熱議，網友們也直呼：「好恐怖！」、「注意安全是最重要的。」、「這樣滅火方法對嗎？」、「為何不先關火？」 美国????????直播主，做饭的时候几乎烧毁了她的厨房和公寓。 pic.twitter.com/vAygvj27Ly 更多鏡週刊報導 為流量不要命 又一中國重機正妹車禍慘死！曾炫耀時速飆265公里 【41J肉聲】厲害了中國女三寶！逆向撞車還連搧對方10巴掌 身分被起底 不是鬼片！日本防範珊珊颱風拆坂本龍馬雕像 畫面太詭異引熱議 分享給朋友： 追蹤我們：'), Document(metadata={'id': 'c8371a5d-ae6b-4902-8e89-9c7042037e41', 'source': '/Users/davis_chang/code/project/llm-rag-pdf-image-markdown/local-adaptive-rag-llama3/data/finance.ettoday.net_2024-08-23.json', 'seq_num': 47}, page_content='附近一名鄭姓居民表示，「從中國來旅遊的朋友們剛好住在這，還好火災發生前他們已經出門和朋友吃晚餐，逃過一劫。」 另外，還有4名哈薩克籍旅客入住，原本預計安排在南韓接受健檢、手術，幸好最後幸免於難。一名住在附近的40多歲俄籍女性表示，「來自哈薩克、吉爾吉斯、烏茲別克等外籍旅客住在這附近飯店好一陣子了。」 報導指出，該間飯店的64間客房並未設置消防灑水器。由於南韓直到2017年才強化消防法規，強制規定6層樓以上之建築物必須安裝灑水器，不過該棟發生火災的飯店於2003年竣工，因此並未強制安裝灑水器。 호텔 화재 에어매트 뛰어내린 2명 사망 경기 부천 호텔 화재 사망자 2명은 에어매트 대피 중 사망 소방당국이 설치한 에어매트 위로 뛰어내렸다가 사망을 당한 것으로 알려졌다. pic.twitter.com/AdXFxE4hPC ►飯店大火跳樓逃生慘死！氣墊「上下翻轉」直摔撞地 曝超過使用年限 分享給朋友： 追蹤我們：'), Document(metadata={'id': 'ed904c89-eb92-4a4e-bb1e-6e44519fa90e', 'source': '/Users/davis_chang/code/project/llm-rag-pdf-image-markdown/local-adaptive-rag-llama3/data/finance.ettoday.net_2024-08-23.json', 'seq_num': 59}, page_content='▲京畿道富川市某飯店發生火災，警方、消防23日派遣人員前往現場進行鑑識工作。（圖／達志影像／美聯社） 記者羅翊宬／編譯 南韓京畿道富川一間觀光飯店昨（22）日晚間發生大火，釀成7人死亡（皆韓籍）、12人輕重傷的慘劇，包含一對男女跳樓逃生時，因未受氣墊保護意外死亡。不過，一名生還的護理女大生回憶，火災時濃煙瀰漫，她只好躲進浴室打開蓮蓬頭淋濕頭部，最後奇蹟獲救。 根據《韓聯社》、《News1》，京畿道富川市遠美區中洞某9層樓的觀光飯店22日晚間7時39分發生大火，火勢和散佈著有毒氣體的濃煙從810號客房瀰漫至8、9樓，造成7人死亡、12人輕重傷，他們被發現時大多躺在8、9樓的客房、樓梯、走廊，不過住在806號房的20多歲女大生卻機智生還。 該名女大生就讀位於江原特別自治道江陵市某大學的護理學系，最近為了要前往京畿道富川市某大學醫院實習，而入住發生火災的飯店。但是，女大生入住的客房是806號，與起火的810號房相距不遠，也因此當她聞到燒焦味時，便立刻意識到失火了。 ▲護理女大生實習期間入住飯店，卻遇到火災。（圖／達志影像／newscom） 女大生回憶，「當我聞到一股燒焦味時，我打開房間門，結果發現整條走廊佈滿黑色濃煙，伸手不見五指」；於是，女大生只好緊閉玄關門，試圖打開客房反方向的窗戶，原本她想要逃到樓下，不過看見走廊全是黑煙後，才決定緊閉所有門窗、逃進房間浴室內。 在九死一生的狀態下，女大生緊急撥打電話119向消防隊員求助，最後依照消防隊員指示，用飯店提供的毛巾塞住浴室的門縫、阻止濃煙從門縫滲進來，並打開蓮蓬頭的水淋濕頭部，此刻她腦中浮現過去所學到的知識，只要打開蓮蓬頭、讓水或火蒸氣形成「水幕」，就能夠暫時阻斷有毒氣體。 女大生事後受訪表示，「火災發生時，我跑進浴室打開蓮蓬頭、淋濕頭部。因為我知道，『一氧化碳』會溶解於水。（經查維基百科，一氧化碳在水中溶解度甚低，推測應為口誤）」 ▲住在女大生隔壁房的一對男女跳樓逃生時，因氣墊翻轉而導致彈飛慘死。（圖／翻攝自X）')]}\n"
     ]
    }
   ],
   "source": [
    "# Test on current events\n",
    "inputs = {\"question\": \"火災時不可搭乘電梯逃生？\", \"max_retries\": 3}\n",
    "for event in graph.stream(inputs, stream_mode=\"values\"):\n",
    "    print(event)"
   ]
  },
  {
   "cell_type": "code",
   "execution_count": 51,
   "id": "15f70090-0491-4e4c-a789-38a81754e121",
   "metadata": {},
   "outputs": [
    {
     "name": "stdout",
     "output_type": "stream",
     "text": [
      "====== docs ====== HTTPError('400 Client Error: Bad Request for url: https://api.tavily.com/search')\n"
     ]
    }
   ],
   "source": []
  },
  {
   "cell_type": "code",
   "execution_count": null,
   "id": "6e3a00c0-eb32-41db-b0cf-43bbfe10df89",
   "metadata": {},
   "outputs": [],
   "source": []
  }
 ],
 "metadata": {
  "kernelspec": {
   "display_name": "Python 3 (ipykernel)",
   "language": "python",
   "name": "python3"
  },
  "language_info": {
   "codemirror_mode": {
    "name": "ipython",
    "version": 3
   },
   "file_extension": ".py",
   "mimetype": "text/x-python",
   "name": "python",
   "nbconvert_exporter": "python",
   "pygments_lexer": "ipython3",
   "version": "3.11.3"
  }
 },
 "nbformat": 4,
 "nbformat_minor": 5
}
